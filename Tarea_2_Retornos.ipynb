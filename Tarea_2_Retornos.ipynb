{
  "nbformat": 4,
  "nbformat_minor": 0,
  "metadata": {
    "colab": {
      "name": "Untitled0.ipynb",
      "provenance": [],
      "authorship_tag": "ABX9TyPHzO1NFfeOHRWm3UD0GED5",
      "include_colab_link": true
    },
    "kernelspec": {
      "name": "python3",
      "display_name": "Python 3"
    }
  },
  "cells": [
    {
      "cell_type": "markdown",
      "metadata": {
        "id": "view-in-github",
        "colab_type": "text"
      },
      "source": [
        "<a href=\"https://colab.research.google.com/github/MaddoSaru/curso-series-temporales/blob/master/Tarea_2_Retornos.ipynb\" target=\"_parent\"><img src=\"https://colab.research.google.com/assets/colab-badge.svg\" alt=\"Open In Colab\"/></a>"
      ]
    },
    {
      "cell_type": "markdown",
      "metadata": {
        "id": "xiQ8U23yQgKZ",
        "colab_type": "text"
      },
      "source": [
        "\n",
        "# **Importing the relevant packages**"
      ]
    },
    {
      "cell_type": "code",
      "metadata": {
        "id": "trVSDkt0PxA2",
        "colab_type": "code",
        "colab": {
          "base_uri": "https://localhost:8080/",
          "height": 51
        },
        "outputId": "76449652-d51c-4248-ff96-c897a3119932"
      },
      "source": [
        "import pandas as pd\n",
        "import numpy as np\n",
        "import matplotlib.pyplot as plt\n",
        "import statsmodels.graphics.tsaplots as sgt\n",
        "from statsmodels.tsa.arima_model import ARMA\n",
        "from scipy.stats.distributions import chi2\n",
        "import statsmodels.tsa.stattools as sts \n",
        "import seaborn as sns\n",
        "sns.set()"
      ],
      "execution_count": 1,
      "outputs": [
        {
          "output_type": "stream",
          "text": [
            "/usr/local/lib/python3.6/dist-packages/statsmodels/tools/_testing.py:19: FutureWarning: pandas.util.testing is deprecated. Use the functions in the public API at pandas.testing instead.\n",
            "  import pandas.util.testing as tm\n"
          ],
          "name": "stderr"
        }
      ]
    },
    {
      "cell_type": "markdown",
      "metadata": {
        "id": "rcHI5SYwaGol",
        "colab_type": "text"
      },
      "source": [
        "# **LLR Test**"
      ]
    },
    {
      "cell_type": "code",
      "metadata": {
        "id": "6ZIxD0rAaJJL",
        "colab_type": "code",
        "colab": {}
      },
      "source": [
        "def LLR_test(mod_1, mod_2, DF=1):\n",
        "    L1 = mod_1.llf\n",
        "    L2 = mod_2.llf\n",
        "    LR = (2*(L2-L1))\n",
        "    p = chi2.sf(LR, DF).round(3)\n",
        "    return p"
      ],
      "execution_count": 23,
      "outputs": []
    },
    {
      "cell_type": "markdown",
      "metadata": {
        "id": "yfpUzMUAQtU2",
        "colab_type": "text"
      },
      "source": [
        "# **Importing the Data and Pre-processing**"
      ]
    },
    {
      "cell_type": "code",
      "metadata": {
        "id": "TBX4pegUP4Sy",
        "colab_type": "code",
        "colab": {}
      },
      "source": [
        "raw_csv_data = pd.read_csv(\"https://raw.githubusercontent.com/MaddoSaru/curso-series-temporales/master/4.%20Modelos%20AR%20autorregresivos/Python/Index2018.csv\") \n",
        "df_comp=raw_csv_data.copy()\n",
        "df_comp.date = pd.to_datetime(df_comp.date, dayfirst = True)\n",
        "df_comp.set_index(\"date\", inplace=True)\n",
        "df_comp=df_comp.asfreq('b')\n",
        "df_comp=df_comp.fillna(method='ffill')"
      ],
      "execution_count": 6,
      "outputs": []
    },
    {
      "cell_type": "code",
      "metadata": {
        "id": "7iNisw74QEKC",
        "colab_type": "code",
        "colab": {}
      },
      "source": [
        "df_comp['market_value']=df_comp.ftse #ftse"
      ],
      "execution_count": 7,
      "outputs": []
    },
    {
      "cell_type": "code",
      "metadata": {
        "id": "hWSIB_foQQEz",
        "colab_type": "code",
        "colab": {}
      },
      "source": [
        "del df_comp['spx']\n",
        "del df_comp['dax']\n",
        "del df_comp['ftse']\n",
        "del df_comp['nikkei']\n",
        "size = int(len(df_comp)*0.8)\n",
        "df, df_test = df_comp.iloc[:size], df_comp.iloc[size:]"
      ],
      "execution_count": 8,
      "outputs": []
    },
    {
      "cell_type": "markdown",
      "metadata": {
        "id": "84X5yDUfQ2Vu",
        "colab_type": "text"
      },
      "source": [
        "# **DF TEST**"
      ]
    },
    {
      "cell_type": "code",
      "metadata": {
        "id": "XT6SZ8ztQ6cD",
        "colab_type": "code",
        "colab": {
          "base_uri": "https://localhost:8080/",
          "height": 153
        },
        "outputId": "7a1eb80b-262e-45d7-a9ff-be0b0a8c9eda"
      },
      "source": [
        "sts.adfuller(df_comp.market_value)  # H0: No Estacionario"
      ],
      "execution_count": 10,
      "outputs": [
        {
          "output_type": "execute_result",
          "data": {
            "text/plain": [
              "(-1.597778892117985,\n",
              " 0.4847091205465968,\n",
              " 6,\n",
              " 6270,\n",
              " {'1%': -3.4313933778649943,\n",
              "  '10%': -2.567015430304048,\n",
              "  '5%': -2.862001080749219},\n",
              " 68476.87620974617)"
            ]
          },
          "metadata": {
            "tags": []
          },
          "execution_count": 10
        }
      ]
    },
    {
      "cell_type": "markdown",
      "metadata": {
        "id": "XihfVlwfRw8u",
        "colab_type": "text"
      },
      "source": [
        "# **USING RETURNS**"
      ]
    },
    {
      "cell_type": "code",
      "metadata": {
        "id": "IV4biNhFR0rm",
        "colab_type": "code",
        "colab": {
          "base_uri": "https://localhost:8080/",
          "height": 119
        },
        "outputId": "19855dbe-647b-418d-84c8-30d2adab10c3"
      },
      "source": [
        "df['returns']=df.market_value.pct_change(1).mul(100)\n",
        "df = df.iloc[1:]  #Correr los retornos en 1 para que no existan valores faltantes en el dataset"
      ],
      "execution_count": 11,
      "outputs": [
        {
          "output_type": "stream",
          "text": [
            "/usr/local/lib/python3.6/dist-packages/ipykernel_launcher.py:1: SettingWithCopyWarning: \n",
            "A value is trying to be set on a copy of a slice from a DataFrame.\n",
            "Try using .loc[row_indexer,col_indexer] = value instead\n",
            "\n",
            "See the caveats in the documentation: https://pandas.pydata.org/pandas-docs/stable/user_guide/indexing.html#returning-a-view-versus-a-copy\n",
            "  \"\"\"Entry point for launching an IPython kernel.\n"
          ],
          "name": "stderr"
        }
      ]
    },
    {
      "cell_type": "code",
      "metadata": {
        "id": "za3LyXSrSRMh",
        "colab_type": "code",
        "colab": {
          "base_uri": "https://localhost:8080/",
          "height": 153
        },
        "outputId": "ec3becb9-8958-425a-c296-031f80b25fdb"
      },
      "source": [
        "sts.adfuller(df.returns)"
      ],
      "execution_count": 12,
      "outputs": [
        {
          "output_type": "execute_result",
          "data": {
            "text/plain": [
              "(-12.770265719497182,\n",
              " 7.798058336040345e-24,\n",
              " 32,\n",
              " 4987,\n",
              " {'1%': -3.431661944885779,\n",
              "  '10%': -2.5670785949998973,\n",
              "  '5%': -2.8621197374408225},\n",
              " 15696.7672456975)"
            ]
          },
          "metadata": {
            "tags": []
          },
          "execution_count": 12
        }
      ]
    },
    {
      "cell_type": "markdown",
      "metadata": {
        "id": "vnCr-nevTCoq",
        "colab_type": "text"
      },
      "source": [
        "# **ACF and PACF for Returns**"
      ]
    },
    {
      "cell_type": "code",
      "metadata": {
        "id": "tEp6IXy7TPNE",
        "colab_type": "code",
        "colab": {
          "base_uri": "https://localhost:8080/",
          "height": 289
        },
        "outputId": "41622c75-b8b7-44cb-c599-dfcae63dbf4a"
      },
      "source": [
        "sgt.plot_acf(df.returns, zero = False, lags = 40)\n",
        "plt.title(\"ACF for Returns\", size = 20)\n",
        "plt.show()"
      ],
      "execution_count": 15,
      "outputs": [
        {
          "output_type": "display_data",
          "data": {
            "image/png": "[encoded data removed]",
            "text/plain": [
              "<Figure size 432x288 with 1 Axes>"
            ]
          },
          "metadata": {
            "tags": [],
            "needs_background": "light"
          }
        }
      ]
    },
    {
      "cell_type": "code",
      "metadata": {
        "id": "OLOur_w7Tx-W",
        "colab_type": "code",
        "colab": {
          "base_uri": "https://localhost:8080/",
          "height": 289
        },
        "outputId": "8829c086-9645-428a-f688-b3773b6b8e0d"
      },
      "source": [
        "sgt.plot_pacf(df.returns, lags = 40, alpha = 0.05, zero = False, method = ('ols'))\n",
        "plt.title(\"PACF for Returns\", size = 20)\n",
        "plt.show()"
      ],
      "execution_count": 16,
      "outputs": [
        {
          "output_type": "display_data",
          "data": {
            "image/png": "[encoded data removed]",
            "text/plain": [
              "<Figure size 432x288 with 1 Axes>"
            ]
          },
          "metadata": {
            "tags": [],
            "needs_background": "light"
          }
        }
      ]
    },
    {
      "cell_type": "markdown",
      "metadata": {
        "id": "z4UoO-JcVw5e",
        "colab_type": "text"
      },
      "source": [
        "# **AR(1)**"
      ]
    },
    {
      "cell_type": "code",
      "metadata": {
        "id": "znYstjuEVzhD",
        "colab_type": "code",
        "colab": {
          "base_uri": "https://localhost:8080/",
          "height": 309
        },
        "outputId": "8f247817-4848-4880-b4ec-54aceee79027"
      },
      "source": [
        "modelo_ar_1 = ARMA(df.returns, order=(1,0))\n",
        "resultados_ar_1 = modelo_ar_1.fit()\n",
        "resultados_ar_1.summary()"
      ],
      "execution_count": 24,
      "outputs": [
        {
          "output_type": "execute_result",
          "data": {
            "text/html": [
              "<table class=\"simpletable\">\n",
              "<caption>ARMA Model Results</caption>\n",
              "<tr>\n",
              "  <th>Dep. Variable:</th>      <td>returns</td>     <th>  No. Observations:  </th>   <td>5020</td>   \n",
              "</tr>\n",
              "<tr>\n",
              "  <th>Model:</th>            <td>ARMA(1, 0)</td>    <th>  Log Likelihood     </th> <td>-7929.749</td>\n",
              "</tr>\n",
              "<tr>\n",
              "  <th>Method:</th>             <td>css-mle</td>     <th>  S.D. of innovations</th>   <td>1.174</td>  \n",
              "</tr>\n",
              "<tr>\n",
              "  <th>Date:</th>          <td>Sat, 08 Aug 2020</td> <th>  AIC                </th> <td>15865.497</td>\n",
              "</tr>\n",
              "<tr>\n",
              "  <th>Time:</th>              <td>18:51:54</td>     <th>  BIC                </th> <td>15885.061</td>\n",
              "</tr>\n",
              "<tr>\n",
              "  <th>Sample:</th>           <td>01-10-1994</td>    <th>  HQIC               </th> <td>15872.353</td>\n",
              "</tr>\n",
              "<tr>\n",
              "  <th></th>                 <td>- 04-05-2013</td>   <th>                     </th>     <td> </td>    \n",
              "</tr>\n",
              "</table>\n",
              "<table class=\"simpletable\">\n",
              "<tr>\n",
              "        <td></td>           <th>coef</th>     <th>std err</th>      <th>z</th>      <th>P>|z|</th>  <th>[0.025</th>    <th>0.975]</th>  \n",
              "</tr>\n",
              "<tr>\n",
              "  <th>const</th>         <td>    0.0188</td> <td>    0.016</td> <td>    1.159</td> <td> 0.247</td> <td>   -0.013</td> <td>    0.051</td>\n",
              "</tr>\n",
              "<tr>\n",
              "  <th>ar.L1.returns</th> <td>   -0.0230</td> <td>    0.014</td> <td>   -1.631</td> <td> 0.103</td> <td>   -0.051</td> <td>    0.005</td>\n",
              "</tr>\n",
              "</table>\n",
              "<table class=\"simpletable\">\n",
              "<caption>Roots</caption>\n",
              "<tr>\n",
              "    <td></td>   <th>            Real</th>  <th>         Imaginary</th> <th>         Modulus</th>  <th>        Frequency</th>\n",
              "</tr>\n",
              "<tr>\n",
              "  <th>AR.1</th> <td>         -43.4386</td> <td>          +0.0000j</td> <td>          43.4386</td> <td>           0.5000</td>\n",
              "</tr>\n",
              "</table>"
            ],
            "text/plain": [
              "<class 'statsmodels.iolib.summary.Summary'>\n",
              "\"\"\"\n",
              "                              ARMA Model Results                              \n",
              "==============================================================================\n",
              "Dep. Variable:                returns   No. Observations:                 5020\n",
              "Model:                     ARMA(1, 0)   Log Likelihood               -7929.749\n",
              "Method:                       css-mle   S.D. of innovations              1.174\n",
              "Date:                Sat, 08 Aug 2020   AIC                          15865.497\n",
              "Time:                        18:51:54   BIC                          15885.061\n",
              "Sample:                    01-10-1994   HQIC                         15872.353\n",
              "                         - 04-05-2013                                         \n",
              "=================================================================================\n",
              "                    coef    std err          z      P>|z|      [0.025      0.975]\n",
              "---------------------------------------------------------------------------------\n",
              "const             0.0188      0.016      1.159      0.247      -0.013       0.051\n",
              "ar.L1.returns    -0.0230      0.014     -1.631      0.103      -0.051       0.005\n",
              "                                    Roots                                    \n",
              "=============================================================================\n",
              "                  Real          Imaginary           Modulus         Frequency\n",
              "-----------------------------------------------------------------------------\n",
              "AR.1          -43.4386           +0.0000j           43.4386            0.5000\n",
              "-----------------------------------------------------------------------------\n",
              "\"\"\""
            ]
          },
          "metadata": {
            "tags": []
          },
          "execution_count": 24
        }
      ]
    },
    {
      "cell_type": "code",
      "metadata": {
        "id": "4mUrEw4GWZ0S",
        "colab_type": "code",
        "colab": {
          "base_uri": "https://localhost:8080/",
          "height": 153
        },
        "outputId": "6626427b-bc3f-40e9-f9b9-d6914e4222cf"
      },
      "source": [
        "df['residuos_modelo'] = resultados_ar_1.resid\n",
        "sts.adfuller(df.residuos_modelo)"
      ],
      "execution_count": 25,
      "outputs": [
        {
          "output_type": "execute_result",
          "data": {
            "text/plain": [
              "(-12.782789959972796,\n",
              " 7.354232414325527e-24,\n",
              " 32,\n",
              " 4987,\n",
              " {'1%': -3.431661944885779,\n",
              "  '10%': -2.5670785949998973,\n",
              "  '5%': -2.8621197374408225},\n",
              " 15696.449407720838)"
            ]
          },
          "metadata": {
            "tags": []
          },
          "execution_count": 25
        }
      ]
    },
    {
      "cell_type": "code",
      "metadata": {
        "id": "m_UML7DtXLyQ",
        "colab_type": "code",
        "colab": {
          "base_uri": "https://localhost:8080/",
          "height": 293
        },
        "outputId": "263ac522-d7df-43d4-bf8d-3168a0951532"
      },
      "source": [
        "sgt.plot_acf(df.residuos_modelo, zero = False, lags = 40)\n",
        "plt.title(\"ACF Of Residuals for Returns\",size=24)\n",
        "plt.show()"
      ],
      "execution_count": 20,
      "outputs": [
        {
          "output_type": "display_data",
          "data": {
            "image/png": "[encoded data removed]",
            "text/plain": [
              "<Figure size 432x288 with 1 Axes>"
            ]
          },
          "metadata": {
            "tags": [],
            "needs_background": "light"
          }
        }
      ]
    },
    {
      "cell_type": "code",
      "metadata": {
        "id": "wJBAL-KOYs9b",
        "colab_type": "code",
        "colab": {
          "base_uri": "https://localhost:8080/",
          "height": 364
        },
        "outputId": "ff59ee5d-23ce-4be6-e462-31217eb83a05"
      },
      "source": [
        "df.residuos_modelo[1:].plot(figsize=(20,5))\n",
        "plt.title(\"Residuals of Returns\",size=24)\n",
        "plt.show()"
      ],
      "execution_count": 21,
      "outputs": [
        {
          "output_type": "display_data",
          "data": {
            "image/png": "[encoded data removed]",
            "text/plain": [
              "<Figure size 1440x360 with 1 Axes>"
            ]
          },
          "metadata": {
            "tags": [],
            "needs_background": "light"
          }
        }
      ]
    },
    {
      "cell_type": "markdown",
      "metadata": {
        "id": "KYymgWSLZynY",
        "colab_type": "text"
      },
      "source": [
        "# **Lags iterations**"
      ]
    },
    {
      "cell_type": "code",
      "metadata": {
        "id": "YBObEvjMZ8C8",
        "colab_type": "code",
        "colab": {
          "base_uri": "https://localhost:8080/",
          "height": 408
        },
        "outputId": "6bbb3e79-35dc-4035-f57c-55554925ba60"
      },
      "source": [
        "modelo_ar_2 = ARMA(df.residuos, order=[2,0])\n",
        "resultados_ar_2 = modelo_ar_2.fit()\n",
        "print(resultados_ar_2.summary()) \n",
        "print (\"LLR test: \" + str(LLR_test(resultados_ar_1, resultados_ar_2)))"
      ],
      "execution_count": 26,
      "outputs": [
        {
          "output_type": "stream",
          "text": [
            "                              ARMA Model Results                              \n",
            "==============================================================================\n",
            "Dep. Variable:               residuos   No. Observations:                 5020\n",
            "Model:                     ARMA(2, 0)   Log Likelihood               -7922.979\n",
            "Method:                       css-mle   S.D. of innovations              1.173\n",
            "Date:                Sat, 08 Aug 2020   AIC                          15853.958\n",
            "Time:                        18:52:46   BIC                          15880.043\n",
            "Sample:                    01-10-1994   HQIC                         15863.099\n",
            "                         - 04-05-2013                                         \n",
            "==================================================================================\n",
            "                     coef    std err          z      P>|z|      [0.025      0.975]\n",
            "----------------------------------------------------------------------------------\n",
            "const           3.633e-05      0.016      0.002      0.998      -0.031       0.031\n",
            "ar.L1.residuos    -0.0012      0.014     -0.087      0.930      -0.029       0.026\n",
            "ar.L2.residuos    -0.0519      0.014     -3.681      0.000      -0.080      -0.024\n",
            "                                    Roots                                    \n",
            "=============================================================================\n",
            "                  Real          Imaginary           Modulus         Frequency\n",
            "-----------------------------------------------------------------------------\n",
            "AR.1           -0.0119           -4.3899j            4.3899           -0.2504\n",
            "AR.2           -0.0119           +4.3899j            4.3899            0.2504\n",
            "-----------------------------------------------------------------------------\n",
            "LLR test: 0.0\n"
          ],
          "name": "stdout"
        }
      ]
    },
    {
      "cell_type": "code",
      "metadata": {
        "id": "3hmYNMJeazBM",
        "colab_type": "code",
        "colab": {
          "base_uri": "https://localhost:8080/",
          "height": 442
        },
        "outputId": "0ce04145-22ff-44e6-eeda-d57e04fa3925"
      },
      "source": [
        "modelo_ar_3 = ARMA(df.residuos, order=[3,0])\n",
        "resultados_ar_3 = modelo_ar_3.fit()\n",
        "print(resultados_ar_3.summary()) \n",
        "print (\"LLR test: \" + str(LLR_test(resultados_ar_2, resultados_ar_3)))"
      ],
      "execution_count": 27,
      "outputs": [
        {
          "output_type": "stream",
          "text": [
            "                              ARMA Model Results                              \n",
            "==============================================================================\n",
            "Dep. Variable:               residuos   No. Observations:                 5020\n",
            "Model:                     ARMA(3, 0)   Log Likelihood               -7907.175\n",
            "Method:                       css-mle   S.D. of innovations              1.169\n",
            "Date:                Sat, 08 Aug 2020   AIC                          15824.350\n",
            "Time:                        18:53:39   BIC                          15856.956\n",
            "Sample:                    01-10-1994   HQIC                         15835.775\n",
            "                         - 04-05-2013                                         \n",
            "==================================================================================\n",
            "                     coef    std err          z      P>|z|      [0.025      0.975]\n",
            "----------------------------------------------------------------------------------\n",
            "const              0.0001      0.015      0.008      0.993      -0.028       0.029\n",
            "ar.L1.residuos    -0.0054      0.014     -0.381      0.703      -0.033       0.022\n",
            "ar.L2.residuos    -0.0520      0.014     -3.703      0.000      -0.080      -0.024\n",
            "ar.L3.residuos    -0.0792      0.014     -5.631      0.000      -0.107      -0.052\n",
            "                                    Roots                                    \n",
            "=============================================================================\n",
            "                  Real          Imaginary           Modulus         Frequency\n",
            "-----------------------------------------------------------------------------\n",
            "AR.1            0.9508           -2.0071j            2.2209           -0.1796\n",
            "AR.2            0.9508           +2.0071j            2.2209            0.1796\n",
            "AR.3           -2.5583           -0.0000j            2.5583           -0.5000\n",
            "-----------------------------------------------------------------------------\n",
            "LLR test: 0.0\n"
          ],
          "name": "stdout"
        }
      ]
    },
    {
      "cell_type": "code",
      "metadata": {
        "id": "krlmdBvSbBpi",
        "colab_type": "code",
        "colab": {
          "base_uri": "https://localhost:8080/",
          "height": 476
        },
        "outputId": "25b8a825-8d26-4b17-f72d-f80821f1fe54"
      },
      "source": [
        "modelo_ar_4 = ARMA(df.residuos, order=[4,0])\n",
        "resultados_ar_4 = modelo_ar_4.fit()\n",
        "print(resultados_ar_4.summary()) \n",
        "print (\"LLR test: \" + str(LLR_test(resultados_ar_3, resultados_ar_4)))"
      ],
      "execution_count": 28,
      "outputs": [
        {
          "output_type": "stream",
          "text": [
            "                              ARMA Model Results                              \n",
            "==============================================================================\n",
            "Dep. Variable:               residuos   No. Observations:                 5020\n",
            "Model:                     ARMA(4, 0)   Log Likelihood               -7901.661\n",
            "Method:                       css-mle   S.D. of innovations              1.168\n",
            "Date:                Sat, 08 Aug 2020   AIC                          15815.323\n",
            "Time:                        18:54:32   BIC                          15854.450\n",
            "Sample:                    01-10-1994   HQIC                         15829.033\n",
            "                         - 04-05-2013                                         \n",
            "==================================================================================\n",
            "                     coef    std err          z      P>|z|      [0.025      0.975]\n",
            "----------------------------------------------------------------------------------\n",
            "const           7.667e-05      0.015      0.005      0.996      -0.030       0.030\n",
            "ar.L1.residuos    -0.0017      0.014     -0.118      0.906      -0.029       0.026\n",
            "ar.L2.residuos    -0.0496      0.014     -3.528      0.000      -0.077      -0.022\n",
            "ar.L3.residuos    -0.0790      0.014     -5.618      0.000      -0.107      -0.051\n",
            "ar.L4.residuos     0.0469      0.014      3.323      0.001       0.019       0.074\n",
            "                                    Roots                                    \n",
            "=============================================================================\n",
            "                  Real          Imaginary           Modulus         Frequency\n",
            "-----------------------------------------------------------------------------\n",
            "AR.1           -1.9120           -0.0000j            1.9120           -0.5000\n",
            "AR.2            0.3414           -1.9270j            1.9570           -0.2221\n",
            "AR.3            0.3414           +1.9270j            1.9570            0.2221\n",
            "AR.4            2.9147           -0.0000j            2.9147           -0.0000\n",
            "-----------------------------------------------------------------------------\n",
            "LLR test: 0.001\n"
          ],
          "name": "stdout"
        }
      ]
    },
    {
      "cell_type": "code",
      "metadata": {
        "id": "AkdXkaF9bMyA",
        "colab_type": "code",
        "colab": {
          "base_uri": "https://localhost:8080/",
          "height": 510
        },
        "outputId": "3ef822b8-4f71-49a8-b2b0-668716a7b4c9"
      },
      "source": [
        "modelo_ar_5 = ARMA(df.residuos, order=[5,0])\n",
        "resultados_ar_5 = modelo_ar_5.fit()\n",
        "print(resultados_ar_5.summary()) \n",
        "print (\"LLR test: \" + str(LLR_test(resultados_ar_4, resultados_ar_5)))"
      ],
      "execution_count": 29,
      "outputs": [
        {
          "output_type": "stream",
          "text": [
            "                              ARMA Model Results                              \n",
            "==============================================================================\n",
            "Dep. Variable:               residuos   No. Observations:                 5020\n",
            "Model:                     ARMA(5, 0)   Log Likelihood               -7892.065\n",
            "Method:                       css-mle   S.D. of innovations              1.166\n",
            "Date:                Sat, 08 Aug 2020   AIC                          15798.130\n",
            "Time:                        18:55:08   BIC                          15843.779\n",
            "Sample:                    01-10-1994   HQIC                         15814.126\n",
            "                         - 04-05-2013                                         \n",
            "==================================================================================\n",
            "                     coef    std err          z      P>|z|      [0.025      0.975]\n",
            "----------------------------------------------------------------------------------\n",
            "const              0.0001      0.014      0.009      0.993      -0.028       0.028\n",
            "ar.L1.residuos     0.0012      0.014      0.088      0.930      -0.026       0.029\n",
            "ar.L2.residuos    -0.0545      0.014     -3.870      0.000      -0.082      -0.027\n",
            "ar.L3.residuos    -0.0820      0.014     -5.839      0.000      -0.110      -0.054\n",
            "ar.L4.residuos     0.0467      0.014      3.320      0.001       0.019       0.074\n",
            "ar.L5.residuos    -0.0618      0.014     -4.385      0.000      -0.089      -0.034\n",
            "                                    Roots                                    \n",
            "=============================================================================\n",
            "                  Real          Imaginary           Modulus         Frequency\n",
            "-----------------------------------------------------------------------------\n",
            "AR.1           -1.5517           -0.0000j            1.5517           -0.5000\n",
            "AR.2           -0.2740           -1.7163j            1.7381           -0.2752\n",
            "AR.3           -0.2740           +1.7163j            1.7381            0.2752\n",
            "AR.4            1.4279           -1.1890j            1.8582           -0.1105\n",
            "AR.5            1.4279           +1.1890j            1.8582            0.1105\n",
            "-----------------------------------------------------------------------------\n",
            "LLR test: 0.0\n"
          ],
          "name": "stdout"
        }
      ]
    },
    {
      "cell_type": "code",
      "metadata": {
        "id": "UW2gtsJFbVza",
        "colab_type": "code",
        "colab": {
          "base_uri": "https://localhost:8080/",
          "height": 544
        },
        "outputId": "11bf768f-c6f6-4e76-ec88-29a843f251dd"
      },
      "source": [
        "modelo_ar_6 = ARMA(df.residuos, order=[6,0])\n",
        "resultados_ar_6 = modelo_ar_6.fit()\n",
        "print(resultados_ar_6.summary()) \n",
        "print (\"LLR test: \" + str(LLR_test(resultados_ar_5, resultados_ar_6)))"
      ],
      "execution_count": 30,
      "outputs": [
        {
          "output_type": "stream",
          "text": [
            "                              ARMA Model Results                              \n",
            "==============================================================================\n",
            "Dep. Variable:               residuos   No. Observations:                 5020\n",
            "Model:                     ARMA(6, 0)   Log Likelihood               -7887.004\n",
            "Method:                       css-mle   S.D. of innovations              1.164\n",
            "Date:                Sat, 08 Aug 2020   AIC                          15790.008\n",
            "Time:                        18:55:40   BIC                          15842.178\n",
            "Sample:                    01-10-1994   HQIC                         15808.289\n",
            "                         - 04-05-2013                                         \n",
            "==================================================================================\n",
            "                     coef    std err          z      P>|z|      [0.025      0.975]\n",
            "----------------------------------------------------------------------------------\n",
            "const              0.0002      0.014      0.011      0.991      -0.027       0.027\n",
            "ar.L1.residuos    -0.0015      0.014     -0.109      0.913      -0.029       0.026\n",
            "ar.L2.residuos    -0.0524      0.014     -3.720      0.000      -0.080      -0.025\n",
            "ar.L3.residuos    -0.0857      0.014     -6.086      0.000      -0.113      -0.058\n",
            "ar.L4.residuos     0.0443      0.014      3.145      0.002       0.017       0.072\n",
            "ar.L5.residuos    -0.0618      0.014     -4.387      0.000      -0.089      -0.034\n",
            "ar.L6.residuos    -0.0449      0.014     -3.183      0.001      -0.073      -0.017\n",
            "                                    Roots                                    \n",
            "=============================================================================\n",
            "                  Real          Imaginary           Modulus         Frequency\n",
            "-----------------------------------------------------------------------------\n",
            "AR.1            1.2870           -0.8966j            1.5685           -0.0968\n",
            "AR.2            1.2870           +0.8966j            1.5685            0.0968\n",
            "AR.3           -0.0677           -1.5317j            1.5332           -0.2570\n",
            "AR.4           -0.0677           +1.5317j            1.5332            0.2570\n",
            "AR.5           -1.9071           -0.4639j            1.9627           -0.4620\n",
            "AR.6           -1.9071           +0.4639j            1.9627            0.4620\n",
            "-----------------------------------------------------------------------------\n",
            "LLR test: 0.001\n"
          ],
          "name": "stdout"
        }
      ]
    },
    {
      "cell_type": "code",
      "metadata": {
        "id": "FyZOgbvTbd1w",
        "colab_type": "code",
        "colab": {
          "base_uri": "https://localhost:8080/",
          "height": 578
        },
        "outputId": "58158c24-d03e-411e-d064-a12ac24fcf59"
      },
      "source": [
        "modelo_ar_7 = ARMA(df.residuos, order=[7,0])\n",
        "resultados_ar_7 = modelo_ar_7.fit()\n",
        "print(resultados_ar_7.summary()) \n",
        "print (\"LLR test: \" + str(LLR_test(resultados_ar_6, resultados_ar_7)))"
      ],
      "execution_count": 31,
      "outputs": [
        {
          "output_type": "stream",
          "text": [
            "                              ARMA Model Results                              \n",
            "==============================================================================\n",
            "Dep. Variable:               residuos   No. Observations:                 5020\n",
            "Model:                     ARMA(7, 0)   Log Likelihood               -7886.619\n",
            "Method:                       css-mle   S.D. of innovations              1.164\n",
            "Date:                Sat, 08 Aug 2020   AIC                          15791.237\n",
            "Time:                        18:56:13   BIC                          15849.928\n",
            "Sample:                    01-10-1994   HQIC                         15811.803\n",
            "                         - 04-05-2013                                         \n",
            "==================================================================================\n",
            "                     coef    std err          z      P>|z|      [0.025      0.975]\n",
            "----------------------------------------------------------------------------------\n",
            "const              0.0001      0.014      0.011      0.992      -0.027       0.027\n",
            "ar.L1.residuos    -0.0010      0.014     -0.070      0.944      -0.029       0.027\n",
            "ar.L2.residuos    -0.0516      0.014     -3.659      0.000      -0.079      -0.024\n",
            "ar.L3.residuos    -0.0863      0.014     -6.119      0.000      -0.114      -0.059\n",
            "ar.L4.residuos     0.0453      0.014      3.208      0.001       0.018       0.073\n",
            "ar.L5.residuos    -0.0611      0.014     -4.335      0.000      -0.089      -0.033\n",
            "ar.L6.residuos    -0.0449      0.014     -3.182      0.001      -0.072      -0.017\n",
            "ar.L7.residuos     0.0124      0.014      0.878      0.380      -0.015       0.040\n",
            "                                    Roots                                    \n",
            "=============================================================================\n",
            "                  Real          Imaginary           Modulus         Frequency\n",
            "-----------------------------------------------------------------------------\n",
            "AR.1           -1.6493           -0.5404j            1.7356           -0.4496\n",
            "AR.2           -1.6493           +0.5404j            1.7356            0.4496\n",
            "AR.3           -0.1189           -1.4926j            1.4973           -0.2627\n",
            "AR.4           -0.1189           +1.4926j            1.4973            0.2627\n",
            "AR.5            1.2749           -0.9841j            1.6105           -0.1046\n",
            "AR.6            1.2749           +0.9841j            1.6105            0.1046\n",
            "AR.7            4.6062           -0.0000j            4.6062           -0.0000\n",
            "-----------------------------------------------------------------------------\n",
            "LLR test: 0.38\n"
          ],
          "name": "stdout"
        }
      ]
    },
    {
      "cell_type": "code",
      "metadata": {
        "id": "jhlhyvFLckQz",
        "colab_type": "code",
        "colab": {
          "base_uri": "https://localhost:8080/",
          "height": 34
        },
        "outputId": "d824cc93-5a30-4447-9097-a7a3ad2a138b"
      },
      "source": [
        "print(\"LLR test: \" + str(LLR_test(resultados_ar_1, resultados_ar_6, DF = 5)))"
      ],
      "execution_count": 32,
      "outputs": [
        {
          "output_type": "stream",
          "text": [
            "LLR test: 0.0\n"
          ],
          "name": "stdout"
        }
      ]
    }
  ]
}