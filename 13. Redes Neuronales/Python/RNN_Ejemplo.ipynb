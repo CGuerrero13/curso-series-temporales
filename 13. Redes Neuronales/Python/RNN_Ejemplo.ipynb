{
  "nbformat": 4,
  "nbformat_minor": 0,
  "metadata": {
    "kernelspec": {
      "display_name": "Python 3",
      "language": "python",
      "name": "python3"
    },
    "language_info": {
      "codemirror_mode": {
        "name": "ipython",
        "version": 3
      },
      "file_extension": ".py",
      "mimetype": "text/x-python",
      "name": "python",
      "nbconvert_exporter": "python",
      "pygments_lexer": "ipython3",
      "version": "3.6.6"
    },
    "colab": {
      "name": "RNN_Ejemplo.ipynb",
      "provenance": [],
      "toc_visible": true
    }
  },
  "cells": [
    {
      "cell_type": "code",
      "metadata": {
        "id": "KjQEWvRm8nsp",
        "colab_type": "code",
        "colab": {}
      },
      "source": [
        "import pandas as pd\n",
        "import numpy as np\n",
        "import matplotlib.pyplot as plt"
      ],
      "execution_count": 1,
      "outputs": []
    },
    {
      "cell_type": "code",
      "metadata": {
        "id": "mFm8W-w8IqNw",
        "colab_type": "code",
        "colab": {
          "base_uri": "https://localhost:8080/",
          "height": 124
        },
        "outputId": "1277d3f7-1954-425b-d4dc-0fcf116bc298"
      },
      "source": [
        "from google.colab import drive\n",
        "drive.mount('/content/drive')"
      ],
      "execution_count": 2,
      "outputs": [
        {
          "output_type": "stream",
          "text": [
            "Go to this URL in a browser: https://accounts.google.com/o/oauth2/auth?client_id=947318989803-6bn6qk8qdgf4n4g3pfee6491hc0brc4i.apps.googleusercontent.com&redirect_uri=urn%3aietf%3awg%3aoauth%3a2.0%3aoob&response_type=code&scope=email%20https%3a%2f%2fwww.googleapis.com%2fauth%2fdocs.test%20https%3a%2f%2fwww.googleapis.com%2fauth%2fdrive%20https%3a%2f%2fwww.googleapis.com%2fauth%2fdrive.photos.readonly%20https%3a%2f%2fwww.googleapis.com%2fauth%2fpeopleapi.readonly\n",
            "\n",
            "Enter your authorization code:\n",
            "··········\n",
            "Mounted at /content/drive\n"
          ],
          "name": "stdout"
        }
      ]
    },
    {
      "cell_type": "markdown",
      "metadata": {
        "id": "nxoBVpgw8nst",
        "colab_type": "text"
      },
      "source": [
        "## Datos\n",
        "https://fred.stlouisfed.org/series/S4248SM144NCEN"
      ]
    },
    {
      "cell_type": "code",
      "metadata": {
        "id": "RbQi21Yx8nsu",
        "colab_type": "code",
        "colab": {}
      },
      "source": [
        "df = pd.read_csv('/content/drive/My Drive/Data_series_temp/Alcohol_Sales.csv',index_col='DATE',parse_dates=True)\n",
        "df.index.freq = 'MS'\n",
        "df.columns = ['Sales']"
      ],
      "execution_count": 3,
      "outputs": []
    },
    {
      "cell_type": "code",
      "metadata": {
        "id": "p0mKKzER8nsx",
        "colab_type": "code",
        "colab": {
          "base_uri": "https://localhost:8080/",
          "height": 238
        },
        "outputId": "8965567f-bf66-41e9-e1aa-34f7695ad8cd"
      },
      "source": [
        "df.head()"
      ],
      "execution_count": 4,
      "outputs": [
        {
          "output_type": "execute_result",
          "data": {
            "text/html": [
              "<div>\n",
              "<style scoped>\n",
              "    .dataframe tbody tr th:only-of-type {\n",
              "        vertical-align: middle;\n",
              "    }\n",
              "\n",
              "    .dataframe tbody tr th {\n",
              "        vertical-align: top;\n",
              "    }\n",
              "\n",
              "    .dataframe thead th {\n",
              "        text-align: right;\n",
              "    }\n",
              "</style>\n",
              "<table border=\"1\" class=\"dataframe\">\n",
              "  <thead>\n",
              "    <tr style=\"text-align: right;\">\n",
              "      <th></th>\n",
              "      <th>Sales</th>\n",
              "    </tr>\n",
              "    <tr>\n",
              "      <th>DATE</th>\n",
              "      <th></th>\n",
              "    </tr>\n",
              "  </thead>\n",
              "  <tbody>\n",
              "    <tr>\n",
              "      <th>1992-01-01</th>\n",
              "      <td>3459</td>\n",
              "    </tr>\n",
              "    <tr>\n",
              "      <th>1992-02-01</th>\n",
              "      <td>3458</td>\n",
              "    </tr>\n",
              "    <tr>\n",
              "      <th>1992-03-01</th>\n",
              "      <td>4002</td>\n",
              "    </tr>\n",
              "    <tr>\n",
              "      <th>1992-04-01</th>\n",
              "      <td>4564</td>\n",
              "    </tr>\n",
              "    <tr>\n",
              "      <th>1992-05-01</th>\n",
              "      <td>4221</td>\n",
              "    </tr>\n",
              "  </tbody>\n",
              "</table>\n",
              "</div>"
            ],
            "text/plain": [
              "            Sales\n",
              "DATE             \n",
              "1992-01-01   3459\n",
              "1992-02-01   3458\n",
              "1992-03-01   4002\n",
              "1992-04-01   4564\n",
              "1992-05-01   4221"
            ]
          },
          "metadata": {
            "tags": []
          },
          "execution_count": 4
        }
      ]
    },
    {
      "cell_type": "code",
      "metadata": {
        "id": "gSQFcz7S8ns3",
        "colab_type": "code",
        "colab": {
          "base_uri": "https://localhost:8080/",
          "height": 514
        },
        "outputId": "6bc0decc-93b6-483d-c410-e3eeaa952366"
      },
      "source": [
        "df.plot(figsize=(12,8))"
      ],
      "execution_count": 5,
      "outputs": [
        {
          "output_type": "execute_result",
          "data": {
            "text/plain": [
              "<matplotlib.axes._subplots.AxesSubplot at 0x7fe9efc61da0>"
            ]
          },
          "metadata": {
            "tags": []
          },
          "execution_count": 5
        },
        {
          "output_type": "display_data",
          "data": {
            "image/png": "[encoded data removed]",
            "text/plain": [
              "<Figure size 864x576 with 1 Axes>"
            ]
          },
          "metadata": {
            "tags": [],
            "needs_background": "light"
          }
        }
      ]
    },
    {
      "cell_type": "code",
      "metadata": {
        "id": "8I1nBbM98ns6",
        "colab_type": "code",
        "colab": {
          "base_uri": "https://localhost:8080/",
          "height": 72
        },
        "outputId": "dc076ade-ed76-49ae-fac6-94d9b2194aa9"
      },
      "source": [
        "from statsmodels.tsa.seasonal import seasonal_decompose"
      ],
      "execution_count": 6,
      "outputs": [
        {
          "output_type": "stream",
          "text": [
            "/usr/local/lib/python3.6/dist-packages/statsmodels/tools/_testing.py:19: FutureWarning: pandas.util.testing is deprecated. Use the functions in the public API at pandas.testing instead.\n",
            "  import pandas.util.testing as tm\n"
          ],
          "name": "stderr"
        }
      ]
    },
    {
      "cell_type": "code",
      "metadata": {
        "id": "UXpdv3pQ8ns8",
        "colab_type": "code",
        "colab": {
          "base_uri": "https://localhost:8080/",
          "height": 188
        },
        "outputId": "740695a7-3b36-4ad4-8cd7-c42e9201f078"
      },
      "source": [
        "results = seasonal_decompose(df['Sales'])\n",
        "results.observed.plot(figsize=(12,2))"
      ],
      "execution_count": 11,
      "outputs": [
        {
          "output_type": "execute_result",
          "data": {
            "text/plain": [
              "<matplotlib.axes._subplots.AxesSubplot at 0x7fe9e3212908>"
            ]
          },
          "metadata": {
            "tags": []
          },
          "execution_count": 11
        },
        {
          "output_type": "display_data",
          "data": {
            "image/png": "[encoded data removed]",
            "text/plain": [
              "<Figure size 864x144 with 1 Axes>"
            ]
          },
          "metadata": {
            "tags": [],
            "needs_background": "light"
          }
        }
      ]
    },
    {
      "cell_type": "code",
      "metadata": {
        "id": "cxQMO7RH8ns_",
        "colab_type": "code",
        "colab": {
          "base_uri": "https://localhost:8080/",
          "height": 188
        },
        "outputId": "7640623e-6803-4f4e-ec5d-8f411521df9c"
      },
      "source": [
        "results.trend.plot(figsize=(12,2))"
      ],
      "execution_count": 12,
      "outputs": [
        {
          "output_type": "execute_result",
          "data": {
            "text/plain": [
              "<matplotlib.axes._subplots.AxesSubplot at 0x7fe9e06ba5c0>"
            ]
          },
          "metadata": {
            "tags": []
          },
          "execution_count": 12
        },
        {
          "output_type": "display_data",
          "data": {
            "image/png": "[encoded data removed]",
            "text/plain": [
              "<Figure size 864x144 with 1 Axes>"
            ]
          },
          "metadata": {
            "tags": [],
            "needs_background": "light"
          }
        }
      ]
    },
    {
      "cell_type": "code",
      "metadata": {
        "id": "hj9S1lQW8ntC",
        "colab_type": "code",
        "colab": {
          "base_uri": "https://localhost:8080/",
          "height": 188
        },
        "outputId": "d7d5d842-5a74-4d03-f961-8b6af597aeaf"
      },
      "source": [
        "results.seasonal.plot(figsize=(12,2))"
      ],
      "execution_count": 13,
      "outputs": [
        {
          "output_type": "execute_result",
          "data": {
            "text/plain": [
              "<matplotlib.axes._subplots.AxesSubplot at 0x7fe9e06ba4a8>"
            ]
          },
          "metadata": {
            "tags": []
          },
          "execution_count": 13
        },
        {
          "output_type": "display_data",
          "data": {
            "image/png": "[encoded data removed]",
            "text/plain": [
              "<Figure size 864x144 with 1 Axes>"
            ]
          },
          "metadata": {
            "tags": [],
            "needs_background": "light"
          }
        }
      ]
    },
    {
      "cell_type": "code",
      "metadata": {
        "id": "KkzQdJ_V8ntF",
        "colab_type": "code",
        "colab": {
          "base_uri": "https://localhost:8080/",
          "height": 188
        },
        "outputId": "8d23ec45-9a08-4fc7-dce7-cf48d3a54af5"
      },
      "source": [
        "results.resid.plot(figsize=(12,2))"
      ],
      "execution_count": 14,
      "outputs": [
        {
          "output_type": "execute_result",
          "data": {
            "text/plain": [
              "<matplotlib.axes._subplots.AxesSubplot at 0x7fe9e05d1dd8>"
            ]
          },
          "metadata": {
            "tags": []
          },
          "execution_count": 14
        },
        {
          "output_type": "display_data",
          "data": {
            "image/png": "[encoded data removed]",
            "text/plain": [
              "<Figure size 864x144 with 1 Axes>"
            ]
          },
          "metadata": {
            "tags": [],
            "needs_background": "light"
          }
        }
      ]
    },
    {
      "cell_type": "markdown",
      "metadata": {
        "id": "njDd-fmQ8ntI",
        "colab_type": "text"
      },
      "source": [
        "## Train Test Split"
      ]
    },
    {
      "cell_type": "code",
      "metadata": {
        "id": "SNWGu6LP8ntI",
        "colab_type": "code",
        "colab": {
          "base_uri": "https://localhost:8080/",
          "height": 34
        },
        "outputId": "3e76f365-20ca-4981-ec74-f93bf8c0b976"
      },
      "source": [
        "len(df)"
      ],
      "execution_count": 15,
      "outputs": [
        {
          "output_type": "execute_result",
          "data": {
            "text/plain": [
              "341"
            ]
          },
          "metadata": {
            "tags": []
          },
          "execution_count": 15
        }
      ]
    },
    {
      "cell_type": "code",
      "metadata": {
        "id": "YMI47WcG8ntL",
        "colab_type": "code",
        "colab": {
          "base_uri": "https://localhost:8080/",
          "height": 34
        },
        "outputId": "0a3fc906-286e-4ca9-dd4f-89d256aa9ad5"
      },
      "source": [
        "len(df)-12 "
      ],
      "execution_count": 16,
      "outputs": [
        {
          "output_type": "execute_result",
          "data": {
            "text/plain": [
              "329"
            ]
          },
          "metadata": {
            "tags": []
          },
          "execution_count": 16
        }
      ]
    },
    {
      "cell_type": "code",
      "metadata": {
        "id": "MuUo0Lki8ntO",
        "colab_type": "code",
        "colab": {}
      },
      "source": [
        "train = df.iloc[:len(df)-12]\n",
        "test = df.iloc[len(df)-12:]"
      ],
      "execution_count": 17,
      "outputs": []
    },
    {
      "cell_type": "code",
      "metadata": {
        "id": "Eddn79fO8ntS",
        "colab_type": "code",
        "colab": {
          "base_uri": "https://localhost:8080/",
          "height": 34
        },
        "outputId": "867343d1-b038-43bc-adaa-ec5c649e8926"
      },
      "source": [
        "len(test)"
      ],
      "execution_count": 18,
      "outputs": [
        {
          "output_type": "execute_result",
          "data": {
            "text/plain": [
              "12"
            ]
          },
          "metadata": {
            "tags": []
          },
          "execution_count": 18
        }
      ]
    },
    {
      "cell_type": "markdown",
      "metadata": {
        "id": "9YGx5yiU8ntU",
        "colab_type": "text"
      },
      "source": [
        "## Escalando los datos"
      ]
    },
    {
      "cell_type": "code",
      "metadata": {
        "id": "kjf1HTa58ntU",
        "colab_type": "code",
        "colab": {}
      },
      "source": [
        "from sklearn.preprocessing import MinMaxScaler"
      ],
      "execution_count": 19,
      "outputs": []
    },
    {
      "cell_type": "code",
      "metadata": {
        "id": "okNzi34r8ntX",
        "colab_type": "code",
        "colab": {}
      },
      "source": [
        "scaler = MinMaxScaler()"
      ],
      "execution_count": 20,
      "outputs": []
    },
    {
      "cell_type": "code",
      "metadata": {
        "id": "iYjveu_e8ntZ",
        "colab_type": "code",
        "colab": {
          "base_uri": "https://localhost:8080/",
          "height": 34
        },
        "outputId": "40a862ed-e0be-4507-9033-be22e0407b2a"
      },
      "source": [
        "scaler.fit(train)"
      ],
      "execution_count": 21,
      "outputs": [
        {
          "output_type": "execute_result",
          "data": {
            "text/plain": [
              "MinMaxScaler(copy=True, feature_range=(0, 1))"
            ]
          },
          "metadata": {
            "tags": []
          },
          "execution_count": 21
        }
      ]
    },
    {
      "cell_type": "code",
      "metadata": {
        "id": "E_4E4J8l8ntc",
        "colab_type": "code",
        "colab": {}
      },
      "source": [
        "scaled_train = scaler.transform(train)\n",
        "scaled_test = scaler.transform(test)"
      ],
      "execution_count": 22,
      "outputs": []
    },
    {
      "cell_type": "markdown",
      "metadata": {
        "id": "t4Lc4_st8nte",
        "colab_type": "text"
      },
      "source": [
        "# Time Series Generator\n",
        "\n",
        "Este generador toma una secuencia de puntos de datos (como una sereie temporal) espaciados en intervalos iguales, teniendo en cuenta otros parámetros de series temporales, para producir batches para el entrenamiento / validación.\n",
        "\n",
        "#### Argumentos\n",
        "    data: Indexable generator (such as list or Numpy array)\n",
        "        containing consecutive data points (timesteps).\n",
        "        The data should be at 2D, and axis 0 is expected\n",
        "        to be the time dimension.\n",
        "    targets: Targets corresponding to timesteps in `data`.\n",
        "        It should have same length as `data`.\n",
        "    length: Length of the output sequences (in number of timesteps).\n",
        "    sampling_rate: Period between successive individual timesteps\n",
        "        within sequences. For rate `r`, timesteps\n",
        "        `data[i]`, `data[i-r]`, ... `data[i - length]`\n",
        "        are used for create a sample sequence.\n",
        "    stride: Period between successive output sequences.\n",
        "        For stride `s`, consecutive output samples would\n",
        "        be centered around `data[i]`, `data[i+s]`, `data[i+2*s]`, etc.\n",
        "    start_index: Data points earlier than `start_index` will not be used\n",
        "        in the output sequences. This is useful to reserve part of the\n",
        "        data for test or validation.\n",
        "    end_index: Data points later than `end_index` will not be used\n",
        "        in the output sequences. This is useful to reserve part of the\n",
        "        data for test or validation.\n",
        "    shuffle: Whether to shuffle output samples,\n",
        "        or instead draw them in chronological order.\n",
        "    reverse: Boolean: if `true`, timesteps in each output sample will be\n",
        "        in reverse chronological order.\n",
        "    batch_size: Number of timeseries samples in each batch\n",
        "        (except maybe the last one)."
      ]
    },
    {
      "cell_type": "code",
      "metadata": {
        "id": "Qvx6Hx7d8ntf",
        "colab_type": "code",
        "colab": {
          "base_uri": "https://localhost:8080/",
          "height": 34
        },
        "outputId": "2cb76e68-2571-4a21-bd37-fc0d021e2365"
      },
      "source": [
        "from keras.preprocessing.sequence import TimeseriesGenerator"
      ],
      "execution_count": 23,
      "outputs": [
        {
          "output_type": "stream",
          "text": [
            "Using TensorFlow backend.\n"
          ],
          "name": "stderr"
        }
      ]
    },
    {
      "cell_type": "code",
      "metadata": {
        "id": "WlEWUYOY8nth",
        "colab_type": "code",
        "colab": {
          "base_uri": "https://localhost:8080/",
          "height": 1000
        },
        "outputId": "1de43c2d-4bff-43b7-de02-96ac18e6aa63"
      },
      "source": [
        "scaled_train"
      ],
      "execution_count": 24,
      "outputs": [
        {
          "output_type": "execute_result",
          "data": {
            "text/plain": [
              "array([[0.03486194],\n",
              "       [0.03478048],\n",
              "       [0.07909098],\n",
              "       [0.12486764],\n",
              "       [0.09692922],\n",
              "       [0.12201678],\n",
              "       [0.11688523],\n",
              "       [0.09008715],\n",
              "       [0.08919117],\n",
              "       [0.10002444],\n",
              "       [0.09847683],\n",
              "       [0.1551682 ],\n",
              "       [0.        ],\n",
              "       [0.01873422],\n",
              "       [0.09196058],\n",
              "       [0.1096359 ],\n",
              "       [0.10393419],\n",
              "       [0.13561945],\n",
              "       [0.11623361],\n",
              "       [0.11615215],\n",
              "       [0.10857701],\n",
              "       [0.09815101],\n",
              "       [0.11965464],\n",
              "       [0.15826342],\n",
              "       [0.00358394],\n",
              "       [0.02818278],\n",
              "       [0.11501181],\n",
              "       [0.10018734],\n",
              "       [0.11639651],\n",
              "       [0.1591594 ],\n",
              "       [0.10531889],\n",
              "       [0.13749287],\n",
              "       [0.10939155],\n",
              "       [0.09912845],\n",
              "       [0.14278733],\n",
              "       [0.15801906],\n",
              "       [0.02761261],\n",
              "       [0.03689827],\n",
              "       [0.10083897],\n",
              "       [0.07843936],\n",
              "       [0.13716706],\n",
              "       [0.15826342],\n",
              "       [0.09709212],\n",
              "       [0.1603812 ],\n",
              "       [0.09806956],\n",
              "       [0.12405311],\n",
              "       [0.14824469],\n",
              "       [0.14620836],\n",
              "       [0.05441069],\n",
              "       [0.07754337],\n",
              "       [0.1002688 ],\n",
              "       [0.12934756],\n",
              "       [0.17821943],\n",
              "       [0.14702289],\n",
              "       [0.15557547],\n",
              "       [0.16543129],\n",
              "       [0.10865847],\n",
              "       [0.16135864],\n",
              "       [0.14816323],\n",
              "       [0.16828215],\n",
              "       [0.05921642],\n",
              "       [0.06467378],\n",
              "       [0.1159078 ],\n",
              "       [0.13065081],\n",
              "       [0.17748636],\n",
              "       [0.16502403],\n",
              "       [0.17919687],\n",
              "       [0.16315061],\n",
              "       [0.15793761],\n",
              "       [0.18823817],\n",
              "       [0.14661562],\n",
              "       [0.23898347],\n",
              "       [0.06231164],\n",
              "       [0.08047569],\n",
              "       [0.15207298],\n",
              "       [0.16771198],\n",
              "       [0.17968559],\n",
              "       [0.19679075],\n",
              "       [0.19581331],\n",
              "       [0.16909668],\n",
              "       [0.20232956],\n",
              "       [0.20786837],\n",
              "       [0.18856398],\n",
              "       [0.26512992],\n",
              "       [0.08153458],\n",
              "       [0.11436019],\n",
              "       [0.19939725],\n",
              "       [0.19972306],\n",
              "       [0.20819418],\n",
              "       [0.25617007],\n",
              "       [0.21096359],\n",
              "       [0.23279303],\n",
              "       [0.22782439],\n",
              "       [0.2295349 ],\n",
              "       [0.25649589],\n",
              "       [0.30463468],\n",
              "       [0.09872119],\n",
              "       [0.15647145],\n",
              "       [0.24248595],\n",
              "       [0.18913415],\n",
              "       [0.27726643],\n",
              "       [0.29665228],\n",
              "       [0.21218539],\n",
              "       [0.29314979],\n",
              "       [0.23263012],\n",
              "       [0.26806223],\n",
              "       [0.28418995],\n",
              "       [0.29705954],\n",
              "       [0.16706036],\n",
              "       [0.17797508],\n",
              "       [0.23311884],\n",
              "       [0.23320029],\n",
              "       [0.30691537],\n",
              "       [0.29616356],\n",
              "       [0.27229779],\n",
              "       [0.31025495],\n",
              "       [0.20721675],\n",
              "       [0.28622628],\n",
              "       [0.30610084],\n",
              "       [0.33794901],\n",
              "       [0.16991122],\n",
              "       [0.19638348],\n",
              "       [0.26928403],\n",
              "       [0.28459721],\n",
              "       [0.34088132],\n",
              "       [0.30382015],\n",
              "       [0.31986642],\n",
              "       [0.32898917],\n",
              "       [0.25388939],\n",
              "       [0.31709701],\n",
              "       [0.30015476],\n",
              "       [0.40270424],\n",
              "       [0.18693492],\n",
              "       [0.20998615],\n",
              "       [0.27555592],\n",
              "       [0.30219109],\n",
              "       [0.3350167 ],\n",
              "       [0.33412071],\n",
              "       [0.36955282],\n",
              "       [0.34495398],\n",
              "       [0.2934756 ],\n",
              "       [0.3742771 ],\n",
              "       [0.31049931],\n",
              "       [0.44872526],\n",
              "       [0.21161522],\n",
              "       [0.23352611],\n",
              "       [0.32695284],\n",
              "       [0.33094404],\n",
              "       [0.35041134],\n",
              "       [0.39806142],\n",
              "       [0.3468274 ],\n",
              "       [0.35554289],\n",
              "       [0.34438381],\n",
              "       [0.34511689],\n",
              "       [0.38282968],\n",
              "       [0.49091798],\n",
              "       [0.20575059],\n",
              "       [0.26113871],\n",
              "       [0.38217806],\n",
              "       [0.34462817],\n",
              "       [0.42437077],\n",
              "       [0.46640059],\n",
              "       [0.35195895],\n",
              "       [0.44514132],\n",
              "       [0.38364421],\n",
              "       [0.38111917],\n",
              "       [0.42485949],\n",
              "       [0.47821129],\n",
              "       [0.24721023],\n",
              "       [0.28989167],\n",
              "       [0.39846868],\n",
              "       [0.35057424],\n",
              "       [0.47340556],\n",
              "       [0.51282887],\n",
              "       [0.38779832],\n",
              "       [0.49890038],\n",
              "       [0.40775434],\n",
              "       [0.45687057],\n",
              "       [0.4966197 ],\n",
              "       [0.53058565],\n",
              "       [0.29290543],\n",
              "       [0.302354  ],\n",
              "       [0.42062393],\n",
              "       [0.39073063],\n",
              "       [0.53262198],\n",
              "       [0.52561701],\n",
              "       [0.45426407],\n",
              "       [0.53042274],\n",
              "       [0.41475931],\n",
              "       [0.53905677],\n",
              "       [0.51796041],\n",
              "       [0.57294127],\n",
              "       [0.33086259],\n",
              "       [0.36262931],\n",
              "       [0.43447096],\n",
              "       [0.47764112],\n",
              "       [0.55086748],\n",
              "       [0.5657734 ],\n",
              "       [0.53123727],\n",
              "       [0.51673862],\n",
              "       [0.50452065],\n",
              "       [0.56341126],\n",
              "       [0.46648204],\n",
              "       [0.63598599],\n",
              "       [0.34495398],\n",
              "       [0.37036735],\n",
              "       [0.46078032],\n",
              "       [0.4993891 ],\n",
              "       [0.5162499 ],\n",
              "       [0.58124949],\n",
              "       [0.52749043],\n",
              "       [0.47992181],\n",
              "       [0.50834895],\n",
              "       [0.49230268],\n",
              "       [0.48203959],\n",
              "       [0.6363118 ],\n",
              "       [0.28728517],\n",
              "       [0.3624664 ],\n",
              "       [0.52488393],\n",
              "       [0.52072982],\n",
              "       [0.51478374],\n",
              "       [0.61260894],\n",
              "       [0.49246559],\n",
              "       [0.5084304 ],\n",
              "       [0.52040401],\n",
              "       [0.51983384],\n",
              "       [0.5567321 ],\n",
              "       [0.68616111],\n",
              "       [0.31522359],\n",
              "       [0.40588092],\n",
              "       [0.55396269],\n",
              "       [0.50908202],\n",
              "       [0.56495887],\n",
              "       [0.67711982],\n",
              "       [0.49482773],\n",
              "       [0.60584833],\n",
              "       [0.57457033],\n",
              "       [0.53604301],\n",
              "       [0.59436344],\n",
              "       [0.6884418 ],\n",
              "       [0.36287367],\n",
              "       [0.45695202],\n",
              "       [0.54394396],\n",
              "       [0.52064837],\n",
              "       [0.67695691],\n",
              "       [0.6714181 ],\n",
              "       [0.55502159],\n",
              "       [0.6623768 ],\n",
              "       [0.52952676],\n",
              "       [0.62906247],\n",
              "       [0.64527165],\n",
              "       [0.72419972],\n",
              "       [0.43691456],\n",
              "       [0.47707095],\n",
              "       [0.57660666],\n",
              "       [0.60780321],\n",
              "       [0.74830985],\n",
              "       [0.6804594 ],\n",
              "       [0.66425022],\n",
              "       [0.68673129],\n",
              "       [0.60788466],\n",
              "       [0.69308463],\n",
              "       [0.66034047],\n",
              "       [0.78830333],\n",
              "       [0.45010996],\n",
              "       [0.49099943],\n",
              "       [0.57212674],\n",
              "       [0.64722652],\n",
              "       [0.71361082],\n",
              "       [0.72273357],\n",
              "       [0.64624908],\n",
              "       [0.64755233],\n",
              "       [0.63509001],\n",
              "       [0.71564715],\n",
              "       [0.60592979],\n",
              "       [0.83725666],\n",
              "       [0.43732182],\n",
              "       [0.49124379],\n",
              "       [0.62645597],\n",
              "       [0.65781543],\n",
              "       [0.69047813],\n",
              "       [0.80418669],\n",
              "       [0.71988271],\n",
              "       [0.66734544],\n",
              "       [0.73234504],\n",
              "       [0.72916836],\n",
              "       [0.69031522],\n",
              "       [0.90836524],\n",
              "       [0.4576851 ],\n",
              "       [0.59403763],\n",
              "       [0.73943146],\n",
              "       [0.68355461],\n",
              "       [0.75026472],\n",
              "       [0.86780158],\n",
              "       [0.64543455],\n",
              "       [0.78797752],\n",
              "       [0.75303413],\n",
              "       [0.72322229],\n",
              "       [0.81371671],\n",
              "       [0.92807689],\n",
              "       [0.48985909],\n",
              "       [0.60454508],\n",
              "       [0.76973202],\n",
              "       [0.68893052],\n",
              "       [0.85574652],\n",
              "       [0.9518612 ],\n",
              "       [0.68127393],\n",
              "       [0.84238821],\n",
              "       [0.72004561],\n",
              "       [0.78455649],\n",
              "       [0.82845972],\n",
              "       [0.90901686],\n",
              "       [0.52635009],\n",
              "       [0.5944449 ],\n",
              "       [0.77689989],\n",
              "       [0.71466971],\n",
              "       [0.89443675],\n",
              "       [0.92766963],\n",
              "       [0.77274578],\n",
              "       [0.89940539],\n",
              "       [0.74936874],\n",
              "       [0.87122261],\n",
              "       [0.8893052 ],\n",
              "       [1.        ],\n",
              "       [0.61782194],\n",
              "       [0.64714507],\n",
              "       [0.76899894],\n",
              "       [0.8199886 ],\n",
              "       [0.94013195]])"
            ]
          },
          "metadata": {
            "tags": []
          },
          "execution_count": 24
        }
      ]
    },
    {
      "cell_type": "code",
      "metadata": {
        "id": "aXmZ0kNW8ntj",
        "colab_type": "code",
        "colab": {}
      },
      "source": [
        "# Definimos el generator (here we have targets as data train)\n",
        "n_input = 2\n",
        "n_features = 1\n",
        "generator = TimeseriesGenerator(scaled_train, scaled_train, length=n_input, batch_size=n_features)"
      ],
      "execution_count": 53,
      "outputs": []
    },
    {
      "cell_type": "code",
      "metadata": {
        "id": "_Y8bK8948ntl",
        "colab_type": "code",
        "colab": {
          "base_uri": "https://localhost:8080/",
          "height": 34
        },
        "outputId": "f93fb4c3-bc31-41de-9f8b-97e8019ce8e3"
      },
      "source": [
        "len(scaled_train)"
      ],
      "execution_count": 54,
      "outputs": [
        {
          "output_type": "execute_result",
          "data": {
            "text/plain": [
              "329"
            ]
          },
          "metadata": {
            "tags": []
          },
          "execution_count": 54
        }
      ]
    },
    {
      "cell_type": "code",
      "metadata": {
        "id": "I1XYDcyq8ntn",
        "colab_type": "code",
        "colab": {
          "base_uri": "https://localhost:8080/",
          "height": 34
        },
        "outputId": "0f083375-e7e4-41bf-8a9f-42d4f63c91bb"
      },
      "source": [
        "len(generator) # n_input = 2"
      ],
      "execution_count": 55,
      "outputs": [
        {
          "output_type": "execute_result",
          "data": {
            "text/plain": [
              "327"
            ]
          },
          "metadata": {
            "tags": []
          },
          "execution_count": 55
        }
      ]
    },
    {
      "cell_type": "code",
      "metadata": {
        "id": "na-huzUU8ntp",
        "colab_type": "code",
        "colab": {
          "base_uri": "https://localhost:8080/",
          "height": 104
        },
        "outputId": "b63d18fb-711e-4fe6-e42d-0190943b7c28"
      },
      "source": [
        "scaled_train[:5]"
      ],
      "execution_count": 56,
      "outputs": [
        {
          "output_type": "execute_result",
          "data": {
            "text/plain": [
              "array([[0.03486194],\n",
              "       [0.03478048],\n",
              "       [0.07909098],\n",
              "       [0.12486764],\n",
              "       [0.09692922]])"
            ]
          },
          "metadata": {
            "tags": []
          },
          "execution_count": 56
        }
      ]
    },
    {
      "cell_type": "code",
      "metadata": {
        "id": "Dxp5-VHF8nts",
        "colab_type": "code",
        "colab": {
          "base_uri": "https://localhost:8080/",
          "height": 52
        },
        "outputId": "7e438a56-3fa7-49e8-863c-b20f5b4a82e4"
      },
      "source": [
        "# ¿Cómo luce el primer batch?\n",
        "generator[0]"
      ],
      "execution_count": 57,
      "outputs": [
        {
          "output_type": "execute_result",
          "data": {
            "text/plain": [
              "(array([[[0.03486194],\n",
              "         [0.03478048]]]), array([[0.07909098]]))"
            ]
          },
          "metadata": {
            "tags": []
          },
          "execution_count": 57
        }
      ]
    },
    {
      "cell_type": "code",
      "metadata": {
        "id": "B4UEQPtNbAJ5",
        "colab_type": "code",
        "colab": {}
      },
      "source": [
        "X,y = generator[0]"
      ],
      "execution_count": 58,
      "outputs": []
    },
    {
      "cell_type": "code",
      "metadata": {
        "id": "8GtIDhWG8ntv",
        "colab_type": "code",
        "colab": {
          "base_uri": "https://localhost:8080/",
          "height": 86
        },
        "outputId": "b777c673-a930-4ce4-f61e-229280bd0e99"
      },
      "source": [
        "print(f'Datos: \\n{X.flatten()}')\n",
        "print(f'Predicción: \\n {y}')"
      ],
      "execution_count": 59,
      "outputs": [
        {
          "output_type": "stream",
          "text": [
            "Datos: \n",
            "[0.03486194 0.03478048]\n",
            "Predicción: \n",
            " [[0.07909098]]\n"
          ],
          "name": "stdout"
        }
      ]
    },
    {
      "cell_type": "code",
      "metadata": {
        "id": "XRZR3vWB8ntx",
        "colab_type": "code",
        "colab": {}
      },
      "source": [
        "# Vamos a redefinir para que utilice 12 meses y luego prediga el próximo mes\n",
        "n_input = 12\n",
        "generator = TimeseriesGenerator(scaled_train, scaled_train, length=n_input, batch_size=1)"
      ],
      "execution_count": 60,
      "outputs": []
    },
    {
      "cell_type": "code",
      "metadata": {
        "id": "yjTNOgKU8ntz",
        "colab_type": "code",
        "colab": {}
      },
      "source": [
        "# ¿Cómo luce el primer batch?\n",
        "X,y = generator[0]"
      ],
      "execution_count": 34,
      "outputs": []
    },
    {
      "cell_type": "code",
      "metadata": {
        "id": "YOyQlSRN8nt1",
        "colab_type": "code",
        "colab": {
          "base_uri": "https://localhost:8080/",
          "height": 104
        },
        "outputId": "c444e07d-6941-4f6d-cbec-b929dab13fe5"
      },
      "source": [
        "print(f'Given the Array: \\n{X.flatten()}')\n",
        "print(f'Predict this y: \\n {y}')"
      ],
      "execution_count": 35,
      "outputs": [
        {
          "output_type": "stream",
          "text": [
            "Given the Array: \n",
            "[0.03486194 0.03478048 0.07909098 0.12486764 0.09692922 0.12201678\n",
            " 0.11688523 0.09008715 0.08919117 0.10002444 0.09847683 0.1551682 ]\n",
            "Predict this y: \n",
            " [[0.]]\n"
          ],
          "name": "stdout"
        }
      ]
    },
    {
      "cell_type": "markdown",
      "metadata": {
        "id": "LxoYBmyG8nt4",
        "colab_type": "text"
      },
      "source": [
        "### Creando el Modelo"
      ]
    },
    {
      "cell_type": "code",
      "metadata": {
        "id": "FFTqcGdt8nt4",
        "colab_type": "code",
        "colab": {}
      },
      "source": [
        "from keras.models import Sequential\n",
        "from keras.layers import Dense\n",
        "from keras.layers import LSTM"
      ],
      "execution_count": 36,
      "outputs": []
    },
    {
      "cell_type": "code",
      "metadata": {
        "id": "ZJ-cv26J8nt6",
        "colab_type": "code",
        "colab": {}
      },
      "source": [
        "# define model\n",
        "model = Sequential()\n",
        "model.add(LSTM(100, activation='relu', input_shape=(n_input, n_features)))\n",
        "model.add(Dense(1))\n",
        "model.compile(optimizer='adam', loss='mse')"
      ],
      "execution_count": 37,
      "outputs": []
    },
    {
      "cell_type": "code",
      "metadata": {
        "id": "J8AjvGVw8nt8",
        "colab_type": "code",
        "colab": {
          "base_uri": "https://localhost:8080/",
          "height": 225
        },
        "outputId": "2fa1ed43-289a-4e56-ea55-eb4961d4ef56"
      },
      "source": [
        "model.summary()"
      ],
      "execution_count": 38,
      "outputs": [
        {
          "output_type": "stream",
          "text": [
            "Model: \"sequential_1\"\n",
            "_________________________________________________________________\n",
            "Layer (type)                 Output Shape              Param #   \n",
            "=================================================================\n",
            "lstm_1 (LSTM)                (None, 100)               40800     \n",
            "_________________________________________________________________\n",
            "dense_1 (Dense)              (None, 1)                 101       \n",
            "=================================================================\n",
            "Total params: 40,901\n",
            "Trainable params: 40,901\n",
            "Non-trainable params: 0\n",
            "_________________________________________________________________\n"
          ],
          "name": "stdout"
        }
      ]
    },
    {
      "cell_type": "code",
      "metadata": {
        "id": "v5j-_TWK8nt-",
        "colab_type": "code",
        "colab": {
          "base_uri": "https://localhost:8080/",
          "height": 1000
        },
        "outputId": "f59e5aa9-76e8-4951-cc5c-c27b17f1264a"
      },
      "source": [
        "# fit model\n",
        "model.fit_generator(generator,epochs=50)"
      ],
      "execution_count": 39,
      "outputs": [
        {
          "output_type": "stream",
          "text": [
            "Epoch 1/50\n",
            "317/317 [==============================] - 2s 7ms/step - loss: 0.0154\n",
            "Epoch 2/50\n",
            "317/317 [==============================] - 2s 5ms/step - loss: 0.0082\n",
            "Epoch 3/50\n",
            "317/317 [==============================] - 2s 5ms/step - loss: 0.0097\n",
            "Epoch 4/50\n",
            "317/317 [==============================] - 2s 5ms/step - loss: 0.0078\n",
            "Epoch 5/50\n",
            "317/317 [==============================] - 2s 5ms/step - loss: 0.0068\n",
            "Epoch 6/50\n",
            "317/317 [==============================] - 2s 5ms/step - loss: 0.0052\n",
            "Epoch 7/50\n",
            "317/317 [==============================] - 2s 5ms/step - loss: 0.0042\n",
            "Epoch 8/50\n",
            "317/317 [==============================] - 2s 5ms/step - loss: 0.0036\n",
            "Epoch 9/50\n",
            "317/317 [==============================] - 2s 5ms/step - loss: 0.0034\n",
            "Epoch 10/50\n",
            "317/317 [==============================] - 2s 5ms/step - loss: 0.0024\n",
            "Epoch 11/50\n",
            "317/317 [==============================] - 2s 5ms/step - loss: 0.0025\n",
            "Epoch 12/50\n",
            "317/317 [==============================] - 2s 5ms/step - loss: 0.0021\n",
            "Epoch 13/50\n",
            "317/317 [==============================] - 2s 5ms/step - loss: 0.0018\n",
            "Epoch 14/50\n",
            "317/317 [==============================] - 2s 5ms/step - loss: 0.0019\n",
            "Epoch 15/50\n",
            "317/317 [==============================] - 2s 6ms/step - loss: 0.0019\n",
            "Epoch 16/50\n",
            "317/317 [==============================] - 2s 5ms/step - loss: 0.0021\n",
            "Epoch 17/50\n",
            "317/317 [==============================] - 2s 5ms/step - loss: 0.0018\n",
            "Epoch 18/50\n",
            "317/317 [==============================] - 2s 5ms/step - loss: 0.0019\n",
            "Epoch 19/50\n",
            "317/317 [==============================] - 2s 6ms/step - loss: 0.0015\n",
            "Epoch 20/50\n",
            "317/317 [==============================] - 2s 6ms/step - loss: 0.0015\n",
            "Epoch 21/50\n",
            "317/317 [==============================] - 2s 6ms/step - loss: 0.0015\n",
            "Epoch 22/50\n",
            "317/317 [==============================] - 2s 5ms/step - loss: 0.0015\n",
            "Epoch 23/50\n",
            "317/317 [==============================] - 2s 6ms/step - loss: 0.0016\n",
            "Epoch 24/50\n",
            "317/317 [==============================] - 2s 5ms/step - loss: 0.0014\n",
            "Epoch 25/50\n",
            "317/317 [==============================] - 2s 6ms/step - loss: 0.0013\n",
            "Epoch 26/50\n",
            "317/317 [==============================] - 2s 5ms/step - loss: 0.0014\n",
            "Epoch 27/50\n",
            "317/317 [==============================] - 2s 5ms/step - loss: 0.0015\n",
            "Epoch 28/50\n",
            "317/317 [==============================] - 2s 6ms/step - loss: 0.0016\n",
            "Epoch 29/50\n",
            "317/317 [==============================] - 2s 6ms/step - loss: 0.0013\n",
            "Epoch 30/50\n",
            "317/317 [==============================] - 2s 6ms/step - loss: 0.0013\n",
            "Epoch 31/50\n",
            "317/317 [==============================] - 2s 6ms/step - loss: 0.0015\n",
            "Epoch 32/50\n",
            "317/317 [==============================] - 2s 6ms/step - loss: 0.0017\n",
            "Epoch 33/50\n",
            "317/317 [==============================] - 2s 6ms/step - loss: 0.0013\n",
            "Epoch 34/50\n",
            "317/317 [==============================] - 2s 6ms/step - loss: 0.0013\n",
            "Epoch 35/50\n",
            "317/317 [==============================] - 2s 5ms/step - loss: 0.0013\n",
            "Epoch 36/50\n",
            "317/317 [==============================] - 2s 5ms/step - loss: 0.0013\n",
            "Epoch 37/50\n",
            "317/317 [==============================] - 2s 5ms/step - loss: 0.0014\n",
            "Epoch 38/50\n",
            "317/317 [==============================] - 2s 5ms/step - loss: 0.0013\n",
            "Epoch 39/50\n",
            "317/317 [==============================] - 2s 5ms/step - loss: 0.0013\n",
            "Epoch 40/50\n",
            "317/317 [==============================] - 2s 5ms/step - loss: 0.0013\n",
            "Epoch 41/50\n",
            "317/317 [==============================] - 2s 6ms/step - loss: 0.0013\n",
            "Epoch 42/50\n",
            "317/317 [==============================] - 2s 5ms/step - loss: 0.0013\n",
            "Epoch 43/50\n",
            "317/317 [==============================] - 2s 5ms/step - loss: 0.0013\n",
            "Epoch 44/50\n",
            "317/317 [==============================] - 2s 5ms/step - loss: 0.0012\n",
            "Epoch 45/50\n",
            "317/317 [==============================] - 2s 5ms/step - loss: 0.0011\n",
            "Epoch 46/50\n",
            "317/317 [==============================] - 2s 5ms/step - loss: 0.0014\n",
            "Epoch 47/50\n",
            "317/317 [==============================] - 2s 5ms/step - loss: 0.0015\n",
            "Epoch 48/50\n",
            "317/317 [==============================] - 2s 5ms/step - loss: 0.0013\n",
            "Epoch 49/50\n",
            "317/317 [==============================] - 2s 5ms/step - loss: 0.0013\n",
            "Epoch 50/50\n",
            "317/317 [==============================] - 2s 5ms/step - loss: 0.0011\n"
          ],
          "name": "stdout"
        },
        {
          "output_type": "execute_result",
          "data": {
            "text/plain": [
              "<keras.callbacks.callbacks.History at 0x7fe99a407860>"
            ]
          },
          "metadata": {
            "tags": []
          },
          "execution_count": 39
        }
      ]
    },
    {
      "cell_type": "code",
      "metadata": {
        "id": "bDJoLpgM8nuA",
        "colab_type": "code",
        "colab": {
          "base_uri": "https://localhost:8080/",
          "height": 34
        },
        "outputId": "1a876240-c446-41db-b94f-c069a6cb8e50"
      },
      "source": [
        "model.history.history.keys()"
      ],
      "execution_count": 48,
      "outputs": [
        {
          "output_type": "execute_result",
          "data": {
            "text/plain": [
              "dict_keys(['loss'])"
            ]
          },
          "metadata": {
            "tags": []
          },
          "execution_count": 48
        }
      ]
    },
    {
      "cell_type": "code",
      "metadata": {
        "id": "68HyZhJH8nuD",
        "colab_type": "code",
        "colab": {
          "base_uri": "https://localhost:8080/",
          "height": 285
        },
        "outputId": "7f29aa16-f2b1-4bee-fc2c-488eafcee906"
      },
      "source": [
        "loss_per_epoch = model.history.history['loss']\n",
        "plt.plot(range(len(loss_per_epoch)),loss_per_epoch)"
      ],
      "execution_count": 49,
      "outputs": [
        {
          "output_type": "execute_result",
          "data": {
            "text/plain": [
              "[<matplotlib.lines.Line2D at 0x7fe996e40710>]"
            ]
          },
          "metadata": {
            "tags": []
          },
          "execution_count": 49
        },
        {
          "output_type": "display_data",
          "data": {
            "image/png": "[encoded data removed]",
            "text/plain": [
              "<Figure size 432x288 with 1 Axes>"
            ]
          },
          "metadata": {
            "tags": [],
            "needs_background": "light"
          }
        }
      ]
    },
    {
      "cell_type": "markdown",
      "metadata": {
        "id": "qCvksOdo8nuG",
        "colab_type": "text"
      },
      "source": [
        "## Evaluando en los Datos de Prueba (Test)"
      ]
    },
    {
      "cell_type": "code",
      "metadata": {
        "id": "M35-TLgW8nuG",
        "colab_type": "code",
        "colab": {}
      },
      "source": [
        "# 12 meses de historia ---> predecir el 13\n",
        "# Necesitaremos los últimos 12 meses del conjunto de entrenamiento para predecir el 1er mes en el conjunto de prueba\n",
        "first_eval_batch = scaled_train[-12:]"
      ],
      "execution_count": 63,
      "outputs": []
    },
    {
      "cell_type": "code",
      "metadata": {
        "id": "i0G5HYSt8nuI",
        "colab_type": "code",
        "colab": {
          "base_uri": "https://localhost:8080/",
          "height": 225
        },
        "outputId": "57782910-f401-4df4-a2c3-8c86ef72d6ca"
      },
      "source": [
        "first_eval_batch"
      ],
      "execution_count": 64,
      "outputs": [
        {
          "output_type": "execute_result",
          "data": {
            "text/plain": [
              "array([[0.92766963],\n",
              "       [0.77274578],\n",
              "       [0.89940539],\n",
              "       [0.74936874],\n",
              "       [0.87122261],\n",
              "       [0.8893052 ],\n",
              "       [1.        ],\n",
              "       [0.61782194],\n",
              "       [0.64714507],\n",
              "       [0.76899894],\n",
              "       [0.8199886 ],\n",
              "       [0.94013195]])"
            ]
          },
          "metadata": {
            "tags": []
          },
          "execution_count": 64
        }
      ]
    },
    {
      "cell_type": "code",
      "metadata": {
        "id": "X1KpR7Beu6Uk",
        "colab_type": "code",
        "colab": {
          "base_uri": "https://localhost:8080/",
          "height": 34
        },
        "outputId": "ad77cf19-06ea-40ff-f518-c46237c278ac"
      },
      "source": [
        "X.shape"
      ],
      "execution_count": 65,
      "outputs": [
        {
          "output_type": "execute_result",
          "data": {
            "text/plain": [
              "(1, 2, 1)"
            ]
          },
          "metadata": {
            "tags": []
          },
          "execution_count": 65
        }
      ]
    },
    {
      "cell_type": "code",
      "metadata": {
        "id": "_cwVgXbR8nuK",
        "colab_type": "code",
        "colab": {}
      },
      "source": [
        "first_eval_batch = first_eval_batch.reshape((1, n_input, n_features))"
      ],
      "execution_count": 66,
      "outputs": []
    },
    {
      "cell_type": "code",
      "metadata": {
        "id": "dRbnGgrqgOxn",
        "colab_type": "code",
        "colab": {
          "base_uri": "https://localhost:8080/",
          "height": 34
        },
        "outputId": "f30489e7-a89f-495a-d74e-9acb997d7905"
      },
      "source": [
        "first_eval_batch.shape"
      ],
      "execution_count": 67,
      "outputs": [
        {
          "output_type": "execute_result",
          "data": {
            "text/plain": [
              "(1, 12, 1)"
            ]
          },
          "metadata": {
            "tags": []
          },
          "execution_count": 67
        }
      ]
    },
    {
      "cell_type": "code",
      "metadata": {
        "id": "Cqo2MGqU8nuM",
        "colab_type": "code",
        "colab": {
          "base_uri": "https://localhost:8080/",
          "height": 34
        },
        "outputId": "02b33fc8-e6cf-41ec-fb7f-ea1a47653c05"
      },
      "source": [
        "model.predict(first_eval_batch) #output will be the first value of scaled test"
      ],
      "execution_count": 68,
      "outputs": [
        {
          "output_type": "execute_result",
          "data": {
            "text/plain": [
              "array([[0.9449047]], dtype=float32)"
            ]
          },
          "metadata": {
            "tags": []
          },
          "execution_count": 68
        }
      ]
    },
    {
      "cell_type": "code",
      "metadata": {
        "id": "2IynOP1h8nuO",
        "colab_type": "code",
        "colab": {
          "base_uri": "https://localhost:8080/",
          "height": 225
        },
        "outputId": "b115f1dc-6c74-4ab8-edaa-ac7f6f382772"
      },
      "source": [
        "scaled_test"
      ],
      "execution_count": 70,
      "outputs": [
        {
          "output_type": "execute_result",
          "data": {
            "text/plain": [
              "array([[0.91602183],\n",
              "       [0.8514295 ],\n",
              "       [0.9101572 ],\n",
              "       [0.81135457],\n",
              "       [0.9282398 ],\n",
              "       [0.87496946],\n",
              "       [1.07241183],\n",
              "       [0.62132443],\n",
              "       [0.67760854],\n",
              "       [0.84540197],\n",
              "       [0.75775841],\n",
              "       [0.90250061]])"
            ]
          },
          "metadata": {
            "tags": []
          },
          "execution_count": 70
        }
      ]
    },
    {
      "cell_type": "markdown",
      "metadata": {
        "id": "45dQ-HXC8nuR",
        "colab_type": "text"
      },
      "source": [
        "Ahora pongamos esta lógica en un bucle for para predecir el futuro para todo el rango de prueba.\n",
        "----"
      ]
    },
    {
      "cell_type": "code",
      "metadata": {
        "id": "aJVPShZy8nue",
        "colab_type": "code",
        "colab": {}
      },
      "source": [
        "test_predictions = []\n",
        "\n",
        "first_eval_batch = scaled_train[-n_input:]\n",
        "current_batch = first_eval_batch.reshape((1, n_input, n_features))\n",
        "\n",
        "for i in range(len(test)):\n",
        "    \n",
        "    # obtener la predicción ([0] es para obtener solo el número en lugar de [matriz])\n",
        "    current_pred = model.predict(current_batch)[0]\n",
        "    \n",
        "    # guardar la predicción\n",
        "    test_predictions.append(current_pred) \n",
        "    \n",
        "    # actualizar el lote para incluir ahora la predicción y soltar primer valor\n",
        "    current_batch = np.append(current_batch[:,1:,:],[[current_pred]],axis=1)"
      ],
      "execution_count": 71,
      "outputs": []
    },
    {
      "cell_type": "code",
      "metadata": {
        "id": "cxabweLZ8nug",
        "colab_type": "code",
        "colab": {
          "base_uri": "https://localhost:8080/",
          "height": 225
        },
        "outputId": "779d903d-74e9-4eba-91a7-117059a22057"
      },
      "source": [
        "test_predictions"
      ],
      "execution_count": 72,
      "outputs": [
        {
          "output_type": "execute_result",
          "data": {
            "text/plain": [
              "[array([0.9449047], dtype=float32),\n",
              " array([0.8139729], dtype=float32),\n",
              " array([0.92430264], dtype=float32),\n",
              " array([0.7865002], dtype=float32),\n",
              " array([0.9022329], dtype=float32),\n",
              " array([0.92182416], dtype=float32),\n",
              " array([1.0246984], dtype=float32),\n",
              " array([0.6365804], dtype=float32),\n",
              " array([0.6987433], dtype=float32),\n",
              " array([0.79493535], dtype=float32),\n",
              " array([0.8653643], dtype=float32),\n",
              " array([0.95792437], dtype=float32)]"
            ]
          },
          "metadata": {
            "tags": []
          },
          "execution_count": 72
        }
      ]
    },
    {
      "cell_type": "code",
      "metadata": {
        "id": "CSeKUpXy8nuj",
        "colab_type": "code",
        "colab": {
          "base_uri": "https://localhost:8080/",
          "height": 225
        },
        "outputId": "caeeb6b4-8940-4e8c-f415-c97cf87379ce"
      },
      "source": [
        "scaled_test"
      ],
      "execution_count": 73,
      "outputs": [
        {
          "output_type": "execute_result",
          "data": {
            "text/plain": [
              "array([[0.91602183],\n",
              "       [0.8514295 ],\n",
              "       [0.9101572 ],\n",
              "       [0.81135457],\n",
              "       [0.9282398 ],\n",
              "       [0.87496946],\n",
              "       [1.07241183],\n",
              "       [0.62132443],\n",
              "       [0.67760854],\n",
              "       [0.84540197],\n",
              "       [0.75775841],\n",
              "       [0.90250061]])"
            ]
          },
          "metadata": {
            "tags": []
          },
          "execution_count": 73
        }
      ]
    },
    {
      "cell_type": "markdown",
      "metadata": {
        "id": "1UL6RdvW8nul",
        "colab_type": "text"
      },
      "source": [
        "## Transformación inversa y Comparación"
      ]
    },
    {
      "cell_type": "code",
      "metadata": {
        "id": "cYDzF_1n8nul",
        "colab_type": "code",
        "colab": {}
      },
      "source": [
        "true_predictions = scaler.inverse_transform(test_predictions)"
      ],
      "execution_count": 74,
      "outputs": []
    },
    {
      "cell_type": "code",
      "metadata": {
        "id": "4cbLs9C48nuo",
        "colab_type": "code",
        "colab": {
          "base_uri": "https://localhost:8080/",
          "height": 225
        },
        "outputId": "a1b91163-8906-4237-8f3a-4fde48317ba2"
      },
      "source": [
        "true_predictions"
      ],
      "execution_count": 75,
      "outputs": [
        {
          "output_type": "execute_result",
          "data": {
            "text/plain": [
              "array([[14631.594818  ],\n",
              "       [13024.14517516],\n",
              "       [14378.66348153],\n",
              "       [12686.86314607],\n",
              "       [14107.71313357],\n",
              "       [14348.23517841],\n",
              "       [15611.2219702 ],\n",
              "       [10846.29766434],\n",
              "       [11609.47129458],\n",
              "       [12790.42123854],\n",
              "       [13655.07767224],\n",
              "       [14791.43744135]])"
            ]
          },
          "metadata": {
            "tags": []
          },
          "execution_count": 75
        }
      ]
    },
    {
      "cell_type": "code",
      "metadata": {
        "id": "PV71AMEz8nur",
        "colab_type": "code",
        "colab": {
          "base_uri": "https://localhost:8080/",
          "height": 457
        },
        "outputId": "992d9d3a-16fc-443e-a4b8-7216fea43b58"
      },
      "source": [
        "test"
      ],
      "execution_count": 76,
      "outputs": [
        {
          "output_type": "execute_result",
          "data": {
            "text/html": [
              "<div>\n",
              "<style scoped>\n",
              "    .dataframe tbody tr th:only-of-type {\n",
              "        vertical-align: middle;\n",
              "    }\n",
              "\n",
              "    .dataframe tbody tr th {\n",
              "        vertical-align: top;\n",
              "    }\n",
              "\n",
              "    .dataframe thead th {\n",
              "        text-align: right;\n",
              "    }\n",
              "</style>\n",
              "<table border=\"1\" class=\"dataframe\">\n",
              "  <thead>\n",
              "    <tr style=\"text-align: right;\">\n",
              "      <th></th>\n",
              "      <th>Sales</th>\n",
              "    </tr>\n",
              "    <tr>\n",
              "      <th>DATE</th>\n",
              "      <th></th>\n",
              "    </tr>\n",
              "  </thead>\n",
              "  <tbody>\n",
              "    <tr>\n",
              "      <th>2019-06-01</th>\n",
              "      <td>14277</td>\n",
              "    </tr>\n",
              "    <tr>\n",
              "      <th>2019-07-01</th>\n",
              "      <td>13484</td>\n",
              "    </tr>\n",
              "    <tr>\n",
              "      <th>2019-08-01</th>\n",
              "      <td>14205</td>\n",
              "    </tr>\n",
              "    <tr>\n",
              "      <th>2019-09-01</th>\n",
              "      <td>12992</td>\n",
              "    </tr>\n",
              "    <tr>\n",
              "      <th>2019-10-01</th>\n",
              "      <td>14427</td>\n",
              "    </tr>\n",
              "    <tr>\n",
              "      <th>2019-11-01</th>\n",
              "      <td>13773</td>\n",
              "    </tr>\n",
              "    <tr>\n",
              "      <th>2019-12-01</th>\n",
              "      <td>16197</td>\n",
              "    </tr>\n",
              "    <tr>\n",
              "      <th>2020-01-01</th>\n",
              "      <td>10659</td>\n",
              "    </tr>\n",
              "    <tr>\n",
              "      <th>2020-02-01</th>\n",
              "      <td>11350</td>\n",
              "    </tr>\n",
              "    <tr>\n",
              "      <th>2020-03-01</th>\n",
              "      <td>13410</td>\n",
              "    </tr>\n",
              "    <tr>\n",
              "      <th>2020-04-01</th>\n",
              "      <td>12334</td>\n",
              "    </tr>\n",
              "    <tr>\n",
              "      <th>2020-05-01</th>\n",
              "      <td>14111</td>\n",
              "    </tr>\n",
              "  </tbody>\n",
              "</table>\n",
              "</div>"
            ],
            "text/plain": [
              "            Sales\n",
              "DATE             \n",
              "2019-06-01  14277\n",
              "2019-07-01  13484\n",
              "2019-08-01  14205\n",
              "2019-09-01  12992\n",
              "2019-10-01  14427\n",
              "2019-11-01  13773\n",
              "2019-12-01  16197\n",
              "2020-01-01  10659\n",
              "2020-02-01  11350\n",
              "2020-03-01  13410\n",
              "2020-04-01  12334\n",
              "2020-05-01  14111"
            ]
          },
          "metadata": {
            "tags": []
          },
          "execution_count": 76
        }
      ]
    },
    {
      "cell_type": "code",
      "metadata": {
        "id": "6rhgmNvu8nus",
        "colab_type": "code",
        "colab": {
          "base_uri": "https://localhost:8080/",
          "height": 141
        },
        "outputId": "02f88ede-62e1-4a2a-aa47-eabc2796df3f"
      },
      "source": [
        "test['Predictions'] = true_predictions"
      ],
      "execution_count": 77,
      "outputs": [
        {
          "output_type": "stream",
          "text": [
            "/usr/local/lib/python3.6/dist-packages/ipykernel_launcher.py:1: SettingWithCopyWarning: \n",
            "A value is trying to be set on a copy of a slice from a DataFrame.\n",
            "Try using .loc[row_indexer,col_indexer] = value instead\n",
            "\n",
            "See the caveats in the documentation: https://pandas.pydata.org/pandas-docs/stable/user_guide/indexing.html#returning-a-view-versus-a-copy\n",
            "  \"\"\"Entry point for launching an IPython kernel.\n"
          ],
          "name": "stderr"
        }
      ]
    },
    {
      "cell_type": "code",
      "metadata": {
        "id": "A1ckSYL08nuu",
        "colab_type": "code",
        "colab": {
          "base_uri": "https://localhost:8080/",
          "height": 457
        },
        "outputId": "02951f51-d50a-418c-d7b4-a6ebfd047849"
      },
      "source": [
        "test"
      ],
      "execution_count": 78,
      "outputs": [
        {
          "output_type": "execute_result",
          "data": {
            "text/html": [
              "<div>\n",
              "<style scoped>\n",
              "    .dataframe tbody tr th:only-of-type {\n",
              "        vertical-align: middle;\n",
              "    }\n",
              "\n",
              "    .dataframe tbody tr th {\n",
              "        vertical-align: top;\n",
              "    }\n",
              "\n",
              "    .dataframe thead th {\n",
              "        text-align: right;\n",
              "    }\n",
              "</style>\n",
              "<table border=\"1\" class=\"dataframe\">\n",
              "  <thead>\n",
              "    <tr style=\"text-align: right;\">\n",
              "      <th></th>\n",
              "      <th>Sales</th>\n",
              "      <th>Predictions</th>\n",
              "    </tr>\n",
              "    <tr>\n",
              "      <th>DATE</th>\n",
              "      <th></th>\n",
              "      <th></th>\n",
              "    </tr>\n",
              "  </thead>\n",
              "  <tbody>\n",
              "    <tr>\n",
              "      <th>2019-06-01</th>\n",
              "      <td>14277</td>\n",
              "      <td>14631.594818</td>\n",
              "    </tr>\n",
              "    <tr>\n",
              "      <th>2019-07-01</th>\n",
              "      <td>13484</td>\n",
              "      <td>13024.145175</td>\n",
              "    </tr>\n",
              "    <tr>\n",
              "      <th>2019-08-01</th>\n",
              "      <td>14205</td>\n",
              "      <td>14378.663482</td>\n",
              "    </tr>\n",
              "    <tr>\n",
              "      <th>2019-09-01</th>\n",
              "      <td>12992</td>\n",
              "      <td>12686.863146</td>\n",
              "    </tr>\n",
              "    <tr>\n",
              "      <th>2019-10-01</th>\n",
              "      <td>14427</td>\n",
              "      <td>14107.713134</td>\n",
              "    </tr>\n",
              "    <tr>\n",
              "      <th>2019-11-01</th>\n",
              "      <td>13773</td>\n",
              "      <td>14348.235178</td>\n",
              "    </tr>\n",
              "    <tr>\n",
              "      <th>2019-12-01</th>\n",
              "      <td>16197</td>\n",
              "      <td>15611.221970</td>\n",
              "    </tr>\n",
              "    <tr>\n",
              "      <th>2020-01-01</th>\n",
              "      <td>10659</td>\n",
              "      <td>10846.297664</td>\n",
              "    </tr>\n",
              "    <tr>\n",
              "      <th>2020-02-01</th>\n",
              "      <td>11350</td>\n",
              "      <td>11609.471295</td>\n",
              "    </tr>\n",
              "    <tr>\n",
              "      <th>2020-03-01</th>\n",
              "      <td>13410</td>\n",
              "      <td>12790.421239</td>\n",
              "    </tr>\n",
              "    <tr>\n",
              "      <th>2020-04-01</th>\n",
              "      <td>12334</td>\n",
              "      <td>13655.077672</td>\n",
              "    </tr>\n",
              "    <tr>\n",
              "      <th>2020-05-01</th>\n",
              "      <td>14111</td>\n",
              "      <td>14791.437441</td>\n",
              "    </tr>\n",
              "  </tbody>\n",
              "</table>\n",
              "</div>"
            ],
            "text/plain": [
              "            Sales   Predictions\n",
              "DATE                           \n",
              "2019-06-01  14277  14631.594818\n",
              "2019-07-01  13484  13024.145175\n",
              "2019-08-01  14205  14378.663482\n",
              "2019-09-01  12992  12686.863146\n",
              "2019-10-01  14427  14107.713134\n",
              "2019-11-01  13773  14348.235178\n",
              "2019-12-01  16197  15611.221970\n",
              "2020-01-01  10659  10846.297664\n",
              "2020-02-01  11350  11609.471295\n",
              "2020-03-01  13410  12790.421239\n",
              "2020-04-01  12334  13655.077672\n",
              "2020-05-01  14111  14791.437441"
            ]
          },
          "metadata": {
            "tags": []
          },
          "execution_count": 78
        }
      ]
    },
    {
      "cell_type": "code",
      "metadata": {
        "id": "OniwCjKN8nux",
        "colab_type": "code",
        "colab": {
          "base_uri": "https://localhost:8080/",
          "height": 525
        },
        "outputId": "d9e43f22-98e2-4530-e72e-09bef3f92985"
      },
      "source": [
        "test.plot(figsize=(12,8))"
      ],
      "execution_count": 79,
      "outputs": [
        {
          "output_type": "execute_result",
          "data": {
            "text/plain": [
              "<matplotlib.axes._subplots.AxesSubplot at 0x7fe99a26d240>"
            ]
          },
          "metadata": {
            "tags": []
          },
          "execution_count": 79
        },
        {
          "output_type": "display_data",
          "data": {
            "image/png": "[encoded data removed]",
            "text/plain": [
              "<Figure size 864x576 with 1 Axes>"
            ]
          },
          "metadata": {
            "tags": [],
            "needs_background": "light"
          }
        }
      ]
    },
    {
      "cell_type": "markdown",
      "metadata": {
        "id": "H4SOQmyQ8nu1",
        "colab_type": "text"
      },
      "source": [
        "# Guardar un Modelo"
      ]
    },
    {
      "cell_type": "code",
      "metadata": {
        "id": "f4lHxfZJ8nu1",
        "colab_type": "code",
        "colab": {}
      },
      "source": [
        "model.save('my_rnn_model.h5')"
      ],
      "execution_count": null,
      "outputs": []
    },
    {
      "cell_type": "markdown",
      "metadata": {
        "id": "rBDV3s8N8nu3",
        "colab_type": "text"
      },
      "source": [
        "# Cargar un Modelo"
      ]
    },
    {
      "cell_type": "code",
      "metadata": {
        "id": "6GWwsMZQ8nu4",
        "colab_type": "code",
        "colab": {}
      },
      "source": [
        "from keras.models import load_model\n",
        "new_model = load_model('my_rnn_model.h5')"
      ],
      "execution_count": null,
      "outputs": []
    },
    {
      "cell_type": "code",
      "metadata": {
        "id": "lTx3WS8t8nu6",
        "colab_type": "code",
        "colab": {
          "base_uri": "https://localhost:8080/",
          "height": 218
        },
        "outputId": "f5b06c6d-54b0-4ca2-e125-e1d1f74e5187"
      },
      "source": [
        "new_model.summary()"
      ],
      "execution_count": null,
      "outputs": [
        {
          "output_type": "stream",
          "text": [
            "Model: \"sequential_1\"\n",
            "_________________________________________________________________\n",
            "Layer (type)                 Output Shape              Param #   \n",
            "=================================================================\n",
            "lstm_1 (LSTM)                (None, 100)               40800     \n",
            "_________________________________________________________________\n",
            "dense_1 (Dense)              (None, 1)                 101       \n",
            "=================================================================\n",
            "Total params: 40,901\n",
            "Trainable params: 40,901\n",
            "Non-trainable params: 0\n",
            "_________________________________________________________________\n"
          ],
          "name": "stdout"
        }
      ]
    }
  ]
}