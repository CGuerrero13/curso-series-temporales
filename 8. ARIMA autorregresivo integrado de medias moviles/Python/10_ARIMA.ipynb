{
  "nbformat": 4,
  "nbformat_minor": 0,
  "metadata": {
    "kernelspec": {
      "display_name": "Python 3",
      "language": "python",
      "name": "python3"
    },
    "language_info": {
      "codemirror_mode": {
        "name": "ipython",
        "version": 3
      },
      "file_extension": ".py",
      "mimetype": "text/x-python",
      "name": "python",
      "nbconvert_exporter": "python",
      "pygments_lexer": "ipython3",
      "version": "3.6.7"
    },
    "colab": {
      "name": "10_ARIMA.ipynb",
      "provenance": [],
      "toc_visible": true
    }
  },
  "cells": [
    {
      "cell_type": "markdown",
      "metadata": {
        "id": "Cp4kdr-x_HsI",
        "colab_type": "text"
      },
      "source": [
        "## Importing the relevant packages"
      ]
    },
    {
      "cell_type": "code",
      "metadata": {
        "id": "moPT7mZU_HsJ",
        "colab_type": "code",
        "colab": {
          "base_uri": "https://localhost:8080/",
<<<<<<< HEAD
          "height": 72
        },
        "outputId": "4fa8f483-2704-493d-f874-9e46d03ae8f9"
=======
          "height": 51
        },
        "outputId": "5431cdf6-60d9-49c4-c8de-a0145ccb6e8d"
>>>>>>> upstream/master
      },
      "source": [
        "import pandas as pd\n",
        "import numpy as np\n",
        "import matplotlib.pyplot as plt\n",
        "import statsmodels.graphics.tsaplots as sgt\n",
        "import statsmodels.tsa.stattools as sts\n",
        "from statsmodels.tsa.arima_model import ARIMA\n",
        "from scipy.stats.distributions import chi2 \n",
        "from math import sqrt\n",
        "import seaborn as sns\n",
        "sns.set()"
      ],
<<<<<<< HEAD
      "execution_count": 2,
=======
      "execution_count": 1,
>>>>>>> upstream/master
      "outputs": [
        {
          "output_type": "stream",
          "text": [
            "/usr/local/lib/python3.6/dist-packages/statsmodels/tools/_testing.py:19: FutureWarning: pandas.util.testing is deprecated. Use the functions in the public API at pandas.testing instead.\n",
            "  import pandas.util.testing as tm\n"
          ],
          "name": "stderr"
        }
      ]
    },
    {
      "cell_type": "code",
      "metadata": {
        "id": "GmjlQd5uUOV5",
        "colab_type": "code",
        "colab": {
          "base_uri": "https://localhost:8080/",
          "height": 124
        },
        "outputId": "9229a5b3-8414-4504-ec4c-4d19742bbbfc"
      },
      "source": [
        "from google.colab import drive\n",
        "drive.mount('/content/drive')"
      ],
      "execution_count": 1,
      "outputs": [
        {
          "output_type": "stream",
          "text": [
            "Go to this URL in a browser: https://accounts.google.com/o/oauth2/auth?client_id=947318989803-6bn6qk8qdgf4n4g3pfee6491hc0brc4i.apps.googleusercontent.com&redirect_uri=urn%3aietf%3awg%3aoauth%3a2.0%3aoob&response_type=code&scope=email%20https%3a%2f%2fwww.googleapis.com%2fauth%2fdocs.test%20https%3a%2f%2fwww.googleapis.com%2fauth%2fdrive%20https%3a%2f%2fwww.googleapis.com%2fauth%2fdrive.photos.readonly%20https%3a%2f%2fwww.googleapis.com%2fauth%2fpeopleapi.readonly\n",
            "\n",
            "Enter your authorization code:\n",
            "··········\n",
            "Mounted at /content/drive\n"
          ],
          "name": "stdout"
        }
      ]
    },
    {
      "cell_type": "markdown",
      "metadata": {
        "id": "wSOk8xjW_HsQ",
        "colab_type": "text"
      },
      "source": [
        "## Importing the Data and Pre-processing "
      ]
    },
    {
      "cell_type": "code",
      "metadata": {
        "id": "tx2hy-86_HsQ",
        "colab_type": "code",
        "colab": {}
      },
      "source": [
<<<<<<< HEAD
        "raw_csv_data = pd.read_csv(\"/content/drive/My Drive/Data_series_temp/Index2018.csv\") \n",
=======
        "raw_csv_data = pd.read_csv(\"https://raw.githubusercontent.com/MaddoSaru/curso-series-temporales/master/8.%20ARIMA%20autorregresivo%20integrado%20de%20medias%20moviles/Python/Index2018.csv\") \n",
>>>>>>> upstream/master
        "df_comp=raw_csv_data.copy()\n",
        "df_comp.date = pd.to_datetime(df_comp.date, dayfirst = True)\n",
        "df_comp.set_index(\"date\", inplace=True)\n",
        "df_comp=df_comp.asfreq('b')\n",
        "df_comp=df_comp.fillna(method='ffill')"
      ],
<<<<<<< HEAD
      "execution_count": 3,
=======
      "execution_count": 2,
>>>>>>> upstream/master
      "outputs": []
    },
    {
      "cell_type": "code",
      "metadata": {
        "id": "IHOcJRbt_HsX",
        "colab_type": "code",
        "colab": {
          "base_uri": "https://localhost:8080/",
          "height": 237
        },
        "outputId": "c51080f8-4f4f-47ab-8821-a34843675fe3"
      },
      "source": [
        "df_comp['market_value']=df_comp.ftse"
      ],
<<<<<<< HEAD
      "execution_count": 7,
      "outputs": [
        {
          "output_type": "execute_result",
          "data": {
            "text/html": [
              "<div>\n",
              "<style scoped>\n",
              "    .dataframe tbody tr th:only-of-type {\n",
              "        vertical-align: middle;\n",
              "    }\n",
              "\n",
              "    .dataframe tbody tr th {\n",
              "        vertical-align: top;\n",
              "    }\n",
              "\n",
              "    .dataframe thead th {\n",
              "        text-align: right;\n",
              "    }\n",
              "</style>\n",
              "<table border=\"1\" class=\"dataframe\">\n",
              "  <thead>\n",
              "    <tr style=\"text-align: right;\">\n",
              "      <th></th>\n",
              "      <th>spx</th>\n",
              "      <th>dax</th>\n",
              "      <th>ftse</th>\n",
              "      <th>nikkei</th>\n",
              "      <th>market_value</th>\n",
              "    </tr>\n",
              "    <tr>\n",
              "      <th>date</th>\n",
              "      <th></th>\n",
              "      <th></th>\n",
              "      <th></th>\n",
              "      <th></th>\n",
              "      <th></th>\n",
              "    </tr>\n",
              "  </thead>\n",
              "  <tbody>\n",
              "    <tr>\n",
              "      <th>1994-01-07</th>\n",
              "      <td>469.90</td>\n",
              "      <td>2224.95</td>\n",
              "      <td>3445.98</td>\n",
              "      <td>18124.01</td>\n",
              "      <td>3445.98</td>\n",
              "    </tr>\n",
              "    <tr>\n",
              "      <th>1994-01-10</th>\n",
              "      <td>475.27</td>\n",
              "      <td>2225.00</td>\n",
              "      <td>3440.58</td>\n",
              "      <td>18443.44</td>\n",
              "      <td>3440.58</td>\n",
              "    </tr>\n",
              "    <tr>\n",
              "      <th>1994-01-11</th>\n",
              "      <td>474.13</td>\n",
              "      <td>2228.10</td>\n",
              "      <td>3413.77</td>\n",
              "      <td>18485.25</td>\n",
              "      <td>3413.77</td>\n",
              "    </tr>\n",
              "    <tr>\n",
              "      <th>1994-01-12</th>\n",
              "      <td>474.17</td>\n",
              "      <td>2182.06</td>\n",
              "      <td>3372.02</td>\n",
              "      <td>18793.88</td>\n",
              "      <td>3372.02</td>\n",
              "    </tr>\n",
              "    <tr>\n",
              "      <th>1994-01-13</th>\n",
              "      <td>472.47</td>\n",
              "      <td>2142.37</td>\n",
              "      <td>3360.01</td>\n",
              "      <td>18577.26</td>\n",
              "      <td>3360.01</td>\n",
              "    </tr>\n",
              "  </tbody>\n",
              "</table>\n",
              "</div>"
            ],
            "text/plain": [
              "               spx      dax     ftse    nikkei  market_value\n",
              "date                                                        \n",
              "1994-01-07  469.90  2224.95  3445.98  18124.01       3445.98\n",
              "1994-01-10  475.27  2225.00  3440.58  18443.44       3440.58\n",
              "1994-01-11  474.13  2228.10  3413.77  18485.25       3413.77\n",
              "1994-01-12  474.17  2182.06  3372.02  18793.88       3372.02\n",
              "1994-01-13  472.47  2142.37  3360.01  18577.26       3360.01"
            ]
          },
          "metadata": {
            "tags": []
          },
          "execution_count": 7
        }
      ]
=======
      "execution_count": 3,
      "outputs": []
>>>>>>> upstream/master
    },
    {
      "cell_type": "code",
      "metadata": {
        "id": "NcRs1tTZ_Hsa",
        "colab_type": "code",
        "colab": {}
      },
      "source": [
        "import warnings\n",
        "warnings.filterwarnings(\"ignore\")"
      ],
<<<<<<< HEAD
      "execution_count": 9,
=======
      "execution_count": 4,
>>>>>>> upstream/master
      "outputs": []
    },
    {
      "cell_type": "code",
      "metadata": {
        "id": "Vbph14mn_Hse",
        "colab_type": "code",
        "colab": {}
      },
      "source": [
        "#del df_comp['spx']\n",
        "#del df_comp['dax']\n",
        "#del df_comp['ftse']\n",
        "#del df_comp['nikkei']\n",
        "size = int(len(df_comp)*0.8)\n",
        "df, df_test = df_comp.iloc[:size], df_comp.iloc[size:]"
      ],
<<<<<<< HEAD
      "execution_count": 13,
=======
      "execution_count": 5,
>>>>>>> upstream/master
      "outputs": []
    },
    {
      "cell_type": "markdown",
      "metadata": {
        "id": "ts4Gb9ct_Hsi",
        "colab_type": "text"
      },
      "source": [
        "## The LLR Test"
      ]
    },
    {
      "cell_type": "code",
      "metadata": {
        "id": "I1EHa2i9_Hsi",
        "colab_type": "code",
        "colab": {}
      },
      "source": [
        "def LLR_test(mod_1, mod_2, DF = 1):\n",
        "    L1 = mod_1.llf\n",
        "    L2 = mod_2.llf\n",
        "    LR = (2*(L2-L1))    \n",
        "    p = chi2.sf(LR, DF).round(3)\n",
        "    return p"
      ],
<<<<<<< HEAD
      "execution_count": 11,
=======
      "execution_count": 6,
>>>>>>> upstream/master
      "outputs": []
    },
    {
      "cell_type": "markdown",
      "metadata": {
        "id": "Nir6U5qL_Hsm",
        "colab_type": "text"
      },
      "source": [
        "## Creating Returns"
      ]
    },
    {
      "cell_type": "code",
      "metadata": {
        "scrolled": true,
        "id": "j8Suzc_7_Hsm",
        "colab_type": "code",
        "colab": {}
      },
      "source": [
        "df['returns'] = df.market_value.pct_change(1)*100"
      ],
<<<<<<< HEAD
      "execution_count": 14,
=======
      "execution_count": 7,
>>>>>>> upstream/master
      "outputs": []
    },
    {
      "cell_type": "markdown",
      "metadata": {
        "id": "h-p_pPxC_Hsp",
        "colab_type": "text"
      },
      "source": [
        "## ARIMA(1,1,1)"
      ]
    },
    {
      "cell_type": "code",
      "metadata": {
        "id": "CvArS9An_Hsq",
        "colab_type": "code",
        "colab": {
          "base_uri": "https://localhost:8080/",
<<<<<<< HEAD
          "height": 357
        },
        "outputId": "cbead706-d3c9-4892-c8fc-cba90867b87b"
=======
          "height": 351
        },
        "outputId": "5b926bc6-c768-4faf-ee2a-8f97b75759bc"
>>>>>>> upstream/master
      },
      "source": [
        "model_ar_1_i_1_ma_1 = ARIMA(df.market_value, order=(1,1,1))\n",
        "results_ar_1_i_1_ma_1 = model_ar_1_i_1_ma_1.fit()\n",
        "results_ar_1_i_1_ma_1.summary()"
      ],
<<<<<<< HEAD
      "execution_count": 15,
=======
      "execution_count": 8,
>>>>>>> upstream/master
      "outputs": [
        {
          "output_type": "execute_result",
          "data": {
            "text/html": [
              "<table class=\"simpletable\">\n",
              "<caption>ARIMA Model Results</caption>\n",
              "<tr>\n",
              "  <th>Dep. Variable:</th>  <td>D.market_value</td>  <th>  No. Observations:  </th>    <td>5020</td>   \n",
              "</tr>\n",
              "<tr>\n",
              "  <th>Model:</th>          <td>ARIMA(1, 1, 1)</td>  <th>  Log Likelihood     </th> <td>-27603.666</td>\n",
              "</tr>\n",
              "<tr>\n",
              "  <th>Method:</th>             <td>css-mle</td>     <th>  S.D. of innovations</th>   <td>59.134</td>  \n",
              "</tr>\n",
              "<tr>\n",
<<<<<<< HEAD
              "  <th>Date:</th>          <td>Mon, 13 Jul 2020</td> <th>  AIC                </th>  <td>55215.333</td>\n",
              "</tr>\n",
              "<tr>\n",
              "  <th>Time:</th>              <td>18:00:57</td>     <th>  BIC                </th>  <td>55241.418</td>\n",
=======
              "  <th>Date:</th>          <td>Tue, 11 Aug 2020</td> <th>  AIC                </th>  <td>55215.333</td>\n",
              "</tr>\n",
              "<tr>\n",
              "  <th>Time:</th>              <td>14:59:54</td>     <th>  BIC                </th>  <td>55241.418</td>\n",
>>>>>>> upstream/master
              "</tr>\n",
              "<tr>\n",
              "  <th>Sample:</th>           <td>01-10-1994</td>    <th>  HQIC               </th>  <td>55224.473</td>\n",
              "</tr>\n",
              "<tr>\n",
              "  <th></th>                 <td>- 04-05-2013</td>   <th>                     </th>      <td> </td>    \n",
              "</tr>\n",
              "</table>\n",
              "<table class=\"simpletable\">\n",
              "<tr>\n",
              "            <td></td>              <th>coef</th>     <th>std err</th>      <th>z</th>      <th>P>|z|</th>  <th>[0.025</th>    <th>0.975]</th>  \n",
              "</tr>\n",
              "<tr>\n",
              "  <th>const</th>                <td>    0.5655</td> <td>    0.682</td> <td>    0.829</td> <td> 0.407</td> <td>   -0.772</td> <td>    1.903</td>\n",
              "</tr>\n",
              "<tr>\n",
              "  <th>ar.L1.D.market_value</th> <td>    0.7475</td> <td>    0.070</td> <td>   10.652</td> <td> 0.000</td> <td>    0.610</td> <td>    0.885</td>\n",
              "</tr>\n",
              "<tr>\n",
              "  <th>ma.L1.D.market_value</th> <td>   -0.7936</td> <td>    0.064</td> <td>  -12.378</td> <td> 0.000</td> <td>   -0.919</td> <td>   -0.668</td>\n",
              "</tr>\n",
              "</table>\n",
              "<table class=\"simpletable\">\n",
              "<caption>Roots</caption>\n",
              "<tr>\n",
              "    <td></td>   <th>            Real</th>  <th>         Imaginary</th> <th>         Modulus</th>  <th>        Frequency</th>\n",
              "</tr>\n",
              "<tr>\n",
              "  <th>AR.1</th> <td>           1.3378</td> <td>          +0.0000j</td> <td>           1.3378</td> <td>           0.0000</td>\n",
              "</tr>\n",
              "<tr>\n",
              "  <th>MA.1</th> <td>           1.2601</td> <td>          +0.0000j</td> <td>           1.2601</td> <td>           0.0000</td>\n",
              "</tr>\n",
              "</table>"
            ],
            "text/plain": [
              "<class 'statsmodels.iolib.summary.Summary'>\n",
              "\"\"\"\n",
              "                             ARIMA Model Results                              \n",
              "==============================================================================\n",
              "Dep. Variable:         D.market_value   No. Observations:                 5020\n",
              "Model:                 ARIMA(1, 1, 1)   Log Likelihood              -27603.666\n",
              "Method:                       css-mle   S.D. of innovations             59.134\n",
<<<<<<< HEAD
              "Date:                Mon, 13 Jul 2020   AIC                          55215.333\n",
              "Time:                        18:00:57   BIC                          55241.418\n",
=======
              "Date:                Tue, 11 Aug 2020   AIC                          55215.333\n",
              "Time:                        14:59:54   BIC                          55241.418\n",
>>>>>>> upstream/master
              "Sample:                    01-10-1994   HQIC                         55224.473\n",
              "                         - 04-05-2013                                         \n",
              "========================================================================================\n",
              "                           coef    std err          z      P>|z|      [0.025      0.975]\n",
              "----------------------------------------------------------------------------------------\n",
              "const                    0.5655      0.682      0.829      0.407      -0.772       1.903\n",
              "ar.L1.D.market_value     0.7475      0.070     10.652      0.000       0.610       0.885\n",
              "ma.L1.D.market_value    -0.7936      0.064    -12.378      0.000      -0.919      -0.668\n",
              "                                    Roots                                    \n",
              "=============================================================================\n",
              "                  Real          Imaginary           Modulus         Frequency\n",
              "-----------------------------------------------------------------------------\n",
              "AR.1            1.3378           +0.0000j            1.3378            0.0000\n",
              "MA.1            1.2601           +0.0000j            1.2601            0.0000\n",
              "-----------------------------------------------------------------------------\n",
              "\"\"\""
            ]
          },
          "metadata": {
            "tags": []
          },
          "execution_count": 15
        }
      ]
    },
    {
      "cell_type": "markdown",
      "metadata": {
        "id": "wH2AehJD_Hsv",
        "colab_type": "text"
      },
      "source": [
        "## Residuals of the ARIMA(1,1,1)"
      ]
    },
    {
      "cell_type": "code",
      "metadata": {
        "id": "0iZd-GCJ_Hsw",
        "colab_type": "code",
        "colab": {
          "base_uri": "https://localhost:8080/",
          "height": 289
        },
<<<<<<< HEAD
        "outputId": "b8a664ea-3ece-4e21-b999-34bacf6399e4"
=======
        "outputId": "34b053fd-e281-4e56-d262-81babb7b4ea4"
>>>>>>> upstream/master
      },
      "source": [
        "df['res_ar_1_i_1_ma_1'] = results_ar_1_i_1_ma_1.resid\n",
        "sgt.plot_acf(df.res_ar_1_i_1_ma_1, zero = False, lags = 40)\n",
        "plt.title(\"ACF Of Residuals for ARIMA(1,1,1)\",size=20)\n",
        "plt.show()"
      ],
<<<<<<< HEAD
      "execution_count": 16,
=======
      "execution_count": 9,
>>>>>>> upstream/master
      "outputs": [
        {
          "output_type": "display_data",
          "data": {
<<<<<<< HEAD
            "image/png": "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\n",
=======
            "image/png": "iVBORw0KGgoAAAANSUhEUgAAAYsAAAEQCAYAAABBQVgLAAAABHNCSVQICAgIfAhkiAAAAAlwSFlzAAALEgAACxIB0t1+/AAAADh0RVh0U29mdHdhcmUAbWF0cGxvdGxpYiB2ZXJzaW9uMy4yLjIsIGh0dHA6Ly9tYXRwbG90bGliLm9yZy+WH4yJAAAgAElEQVR4nO3deZhcVZ3/8Xd3E9kStqZBlmxK8gUfFglECIKAAz8BWR2YEGCAAAnLAG6ZgUENAURRBoUISEyAQJAIAY0aWQaGRXBkD4I6fgmSjUVpWoSgKJDu3x/nlLlUqutUV93uTlV/Xs/TT6frnrp1TnfV/ZytKk1dXV2IiIiU09zfFRARkTWfwkJERJIUFiIikqSwEBGRJIWFiIgkKSxERCRJYSEiIklr9XcFpDpmNgj4MnAMMAz4AHCEu8/v14r1gJl1AQ+6+z4Vlt8HuB+4wN2n9V7NSj72bOAEYKS7L8n53BsAXwUOBbYGWoCd3f3pPB9HKmNm+wL3AePd/db+rk/ezGw94AXgXnc/rtL7NVxYmNmXCC88gG3d3RPlW4EzgAOB0cCGwJvAb4E7gWvd/Y+Z8g8Ae5c55Q3ufmIP6jsa+CzwT4QLRRPwIvA/wBVl6v9FYCrwc+BW4F3gd4nHmk244GW9DSwhtPUSd2+vtO6Sm28CpwILgDnASuAP/VkhM5sJnEJ4fmzp7n/uptw04Pyim/9OeA7fB3ytVLhmnosT3X12idsBLnL3qd087glA4X5lOxxmdg+wX6zTCHdfWaZsM/Bt4FfAvKJjHwOOAD4K7AxsDrzk7lt3d74yj7MdcHTmXEPjoUHu/l4Pz7U14XdWONeHCNeRUe7+fHF5d/+rmX0d+LaZXeHuj1fyOA0VFmbWRHiCdxF+WZOAKWXKHwzcRAiI54EfAa/Gn3cjhM55ZraNuxe/eG8gXGSLVdwbNLOzgW8RpgMfJFwsuoBdgNOAyWb2BXefXuLuBwNvAfu7+zuVPmb040w9NwcOAr4A/LOZ7eLuHT08X7W2A/7aR4+1JjsYeM7dD+nvigCY2RDChawLWBc4DrgycbcHgQfiv1uBTxJef0ea2W7uvqiH1XgPmGhmF3RzcZ8Uy5S9hpnZhwgdsS5CZ+xAwuusO0cDOwHHunvxx1scQ+jYvUvoTG5eQTu68ylCZ28lsAj4G7BOlefalXCt6gIWA28AGyXuM4MQ8hcD/6+SB2mosCA0egShx3EAcIKZnVfqYmpmexPC4T1gImFE0FVUZgfgCkr/EWe7+wPVVtTMjo/n/hNh+ujnRcf3AuYDV5jZ6+4+p+gUWwIdVQQFwPyi3tw6wCOEF8mZwAVVnLPH3L3sSGgA2ZIwQlxTHAMMJnRkziRcmFNh8UB2ajD20H9K6IicR3iN9cQC4HDC6/hn2QOxV/5xwuv3iMR5JhE6jpcA5wKTKR8W/0aYWfhRiWOzCZ3E37j7O3EatVp3Ar8EnnH3t81sCTC8ynM9AXwC+JW7v1nB7Afu/jczuwU41cxGVRLmjRYWk+L3mUAHYarmCOCWbKH4RJ5BaP+/ZS+cWe7+rJntR5hDzk3suV0efzymOCjiYz9kZscSnlSXm9l8d19RPJWUecIudfcR1dQnPnG+TwiLsSXquwnw74QX7wjgHcIT9Bvu/t9FZT9AGBWdCIwE1iaM1n4FfMfd7y2q+2pTCGa2OfA1Qo97A8AJUwNLS9U/vtAo1f7MNMm+2XA3s8OBI4GPAVvFm39HuBhc6e6dpR6rxPkPJfQ2PwJsQnjeLQJucferE/d9gFUv6r0zf8t//E7ic3UycDJhJNZE6NVeB8wormfhd0roIX+V0JP+IHByd8/zEiYBnYTn6HDCiHM3d3+0wvvj7p3xuXoQJZ5TFfg+ofc9iaKwYNXrfBZlwsLM1iI8D98ELgT2Bw4ys63c/aUS5bcF9gBucve3i4/nuYaUmh7v4bleJEyx9dQPCK/Vk4D/TBVumN1Q8QJzKGE4/7+sms+cXKL43oABLwHXljuvu3e6+7s5VhXCRWpj4DF3v7vMY98FPE64CB0Zb55P6Pm/Eb8uiF+XlzpHFd7XVjMbDjxJ6JW1A9cQwnc74C4zm1R0/9mEEdMg4EZgOqHXvAOhl1iWmW0K/C/hCfwcoV1Px8f9fJVtKuUSYAzwKPCdWNfBse43VHICM5tMmNL7CKEXfRlwB2HqppKe9GxWjeKWsupvOTtTZg7wXcKUxyzge0AbcHU8VsomhJHi7sAPCaOCP3ZTtrhNOxOmQf/H3ZdT/nVUqWpeP38mrBl82sw+mKnf2sDxhEB8LnGOQwlBeUu8+M8mdPxO6qb8fvH7w1XUtx49Rvjb7F9J4UYaWUwkXKBmA7j7r83sSWDfuOaQXejZM35/oNxiV8KJcXfO+1S4S6fw+PeWLRXcQ+iZfRy4Pu52mm9mJ/bg8coys3WBf40/Fr9QbiD0Lie4+w8y99mIMEc93cx+4u5/NLMNCT3aJ4Hdin+3cTNBytcIC3SXu/s/wsHMriQM2/PyaXf/fVH9moHrgePN7MoKetKnEkZZO7n7q0Xn2jRVgUJP38zOB5YU/y3NbAJhSmgh8Al3fyve/mXCxfIYM/uZu99cdOodCEFyUk8XS2ObIPweAO4iLLaPN7PPu/ublZzEzFoIoyGo/uI7kxAME4Gvx9uOIKyJzKzg/oWAK7TlZkKgn2xmF5cYPRZel09UWd+6Eqe/fgPsbGZD3H1FufINMbLILGx3EnqIBbNZtdCdtUX8Xs3QreAEwvRG8VclCo+/vIKyhTJb9qh25R1uZtPi19WEaZ4dCCOA7xYKmdlOhFHY7dmgAIi7Y84nrOf8c7y5sLHg74S/BUX3KbtwHrcDHwusAKYV3fcJwtRELoqDIt7WSRhZQJgCqcR7lOg5u/tr1dfuHwo94HMLQRHP/RfgnPjjKSXu9w4wpYpdNesTwukN4px9PMf3gfUJf5vu7JN5Tk0Hfk34Hf4WuKgn9Shw94cJU4OnxNc4hNfy68DtibYMJ/SY3d1/Gc/3J8IIcDil/77D4vdXqqlvnfoDIQe2ShVslJHFJ4EPA3cXzUUWehInmtmXc55Oet8ceJ05LH5l3UPobWd/R+Pi9w3j3H+xtvh9O4C4uPZT4BDgaTO7HXgIeNTdK9n1tC2wHvCQu79R4vgDrL71typxlPPvhDn1DxEuhlnJFw/hInoZ8Fsz+wGht/+LHLcfjyGE7gMljj1I2Emzc4ljS4pHOhU6GhhCWAv5W+b22YT1v0lkOhNF9mb1RdWngX26+VtWaibhd/xJM1sK7EtY+/qbmZW73ymEi+DsottnEzo3kwjrgVmFke/rNdS33vwpfk+OhBtiZMGq4ebs7I2ZnsRmvP/iWOg5VHJB6A2FbbhDy5Z6f5mXc3z8ie7eROgsjCasQezP6heCwotnf0qPos6Ixwdn7jOeMO++bvx+H9BhZnPiulI5G8bv3c2v5/LegziF9jihd/42YTR6MaG+hZHF2qnzuPu3COG1FDib0Bv/o5ndb2a75lDVDYE/ldrxFnv8r7Hqd5ZV7e+pu9fRrwlTizuXadcF8TnVQuihTyfs+781Tu9V60bCSPWU+NVEYgoqToGdRAja4nWdwrTaIdm1kKiwqF3tFtZ6tG78vtqCfrG6H1mYWRthlw7AXDOb203RycBt8d+FOdR9zKylhnWLaj1MmIfdD/hSomxh0e0XeVcitnuRmR1D2OV0clx/+EksUugRfrab93qUOufbhCmkaWY2lLCl70TCXv0RwF5l7l54vO5CpfjFXdBJeAd7KaX2m59C2Km12jvBzWwcYXdTRdz9RuDGGEB7EObUTwLuNrNtaxxlvAFsYmaDikfFcafPpoSdPsV6vKXTzHYk7AwD+GWZXvtkyszpx6m85cBnzWxLwsaMMwnh0WPu/pqZFbbIvgn8MoZXOQezatr2xTJtOYmwRlZQGI21MnBGF4UOYXIk2ggjixMIF4onCTubSn21A/uZ2ch4nwcJ8/Rbk9i1YmbNcS49T7cRdnt8zMy63YkQj32MMFS8rbtytYov8MIF8huxZwZhRw2Uv8CXO+9ydy9sgXwe2DOxyP07wpv0PhoXy4vt0839Xgc27+bvVKonvE38Xmreu+z+9O64+5/d/Q53n0TomW9CCMpaLCS8Rkud5xOEXvxTNT5GQWFU8QDdv47eBiaY2eBSJyjhi4RRwVQLH2lSrZmEkV4blS1sF9YoF1C6HbPj8ZMzayEAz8Tv29ZQ13pjhO3eyfXbRgiLwhPjDHc/pdQX4T0VhUXwwsXxVMLi5HQzO67oSQOAmX0E+G9ynq6KO0q+GH+82cw+XuKx9yCsuQB8PrVTIYc6PUp4cW1L2IFSWFR+CPiMmZXcbmhmO5jZZvHfbRbeyFhsfcJU1XuExdfu6vAuYR1gCEUL3HH6o7sF1scIo+T3BX/cMbba75ZV77zfp6j8zlSw3zxTft9SzxvCtCfU/u706+L3r1v4PJ/C465H2PoLia3flYi74Y4lrIEcW+Z1dDvh7zihkvO6+zLCxb2VVc/3atxPmEY+gvDegG7F0ewBhA7EUd20ZSJhdP8hVo3cYdXa0O411LW4PrPNrKuwe7HGc02L55pWe80gdp43J+wKTY5G63oaKm5dHQ086+6PlSl6LWG6Z6KZne/u77n7g2b2GcKc5hzgKxbeJNVOmAfelfCRH3+hgvm8nnL36+LUxTeBh+JjP8mqj/vYlzC98rk41dEXpgKfBs43s+/HufJjCOsO11r4eJJHCaOirYEdge0JC+GvEkJ1oZk9S+ilLSe8qe5gwhTS9ApC7zzCxzN8LgbEw4TdY+MJ72E4tMR9vkMIiu+a2T/Fx/1orNeC+PhZNxIWty+38KFxi4BRsdwP42NV4kfAW2b2CCGAmgijsLGEv2UlW6O75e43m9lhwL8AvzGz+YTnx+GEabRb4sitVuMJ03U/dfdya2OzCNOJk6mshw9hmudk4PNm9p1qdonFC9lPkgWDkwkjrpuKFumLzSJslZ1M2NwB4Xn+Z8JI+MvFd7Dwpr1zi27e2MKbDwumFLWx0CF/3860uLX6vzI3FRaYr7VVb868xN//KQclzxXPl61DYWT0DTMrvN5mxd1lWYWP+Si7s6z4wetV9p2c3fLwQWb3Ei46h2Ru/ylhF9VUwlDsSMKi57GEF+VU4MOe+SDBPMUF0u0JI5+tCB81cCZhUXsGsL27X9H9GXKvz0LCBXA4cb+9h3eH7kII25WE383ZhPn5ZbHcs/EUSwgL368Rwu4LwGcIn1dzDPC5CurwGvE9JYQn/ecIF/7TCe/iLnWf3xJ6iL8g/H0nE6Y/xhEu2sXlXyZc1H9GuGCcGdt8BqtfDMo5l7BQPibet/Ben3MIu+Xy2H03gfC86CD8rk8j9JrPJPxO81Dp66jwRrhdzeyjlZzY3V8hbJwYQg9GbdWIC+mFEXDZthDe8PcGcFhhZBx37M0mtG+7Evf5IGHau/AFYfde9rbiKbodCFvBi9+FPrjofoXdeMdnbiteo9uB0IEs9Um42XMV1vw+k7ltm27u006FYdHU1VXLx5uIiDSOODXzO+Aad694o0M359qIEPKXuft/1HiuJsKF/T53/5dazhXPtyPhI3i+4u5fTZWH+h9ZiIjkxt0XE7ZPTzazWtcq9yK8YfNbNVcszEC0suqd7LW6kDBde1mld6jrNQsRkV7wVcJa5QjC58dVJU5z5/KeDXd/lrAmVrO4QWIh4SN1Kl6P1TSUiIgkNcrIYm3CDpRXCIuwIiKS1kLY+PM4YVNItxolLMYS3g8gIiI9txeJTwdulLB4BeD11/9CZ2d9Tau1tg6mo+OtdMEGojY3voHWXqjPNjc3N7HxxutDBZ+02yhhsRKgs7Or7sICqMs610ptbnwDrb1Q121OTt9r66yIiCQpLEREJElhISIiSQoLERFJUliIiEiSwkJERJIUFiIikqSwEBGRJIWFiIgkKSxERCRJYSEiIkkKCxERSVJYiIhIksJCRESSFBYiIpKksBARkSSFhYiIJCksREQkSWEhIiJJCgsREUlSWIiISJLCQkREkhQWIiKStFZeJzKz0cANQCvQARzv7ouKyrQA04EDgC7gEnefVVTGgIXA1e4+Ja/6iYhI9fIcWVwDXOXuo4GrgBklyhwLbAOMAsYB08xsROFgDJMZwPwc6yUiIjXKJSzMbDNgDDA33jQXGGNmbUVFxwMz3b3T3dsJoXBU5vi5wALguTzqJSIi+chrZDEUeMndVwLE7y/H27OGAUszPy8rlDGznYBPAd/OqU4iIpKT3NYsamFmg4DvARPdfWVYtui51tbBudarr7S1DenvKvQ5tbnxDbT2QmO3Oa+wWA5sZWYt8WLfAmwZb89aBgwHHo8/F0YaWwAfBu6IQbER0GRmG7j75Eor0dHxFp2dXbW1pI+1tQ2hvX1Ff1ejT6nNjW+gtRfqs83NzU0Vd7JzCQt3f9XMngYmADfF7wvjukTWPGCSmf2QsGvqcGAvd18GbFooZGbTgMHaDSUismbIczfUacBZZvYccFb8GTO7w8x2jWXmAC8Ai4BHgAvdfXGOdRARkV7Q1NVVX9M23RgBLNY0VH1QmxvfQGsv1GebM9NQI4ElZcv2RYVERKS+KSxERCRJYSEiIkkKCxERSVJYiIhIksJCRESSFBYiIpKksBARkSSFhYiIJCksREQkSWEhIiJJCgsREUlSWIiISJLCQkREkhQWIiKSpLAQEZEkhYWIiCQpLEREJElhISIiSQoLERFJUliIiEiSwkJERJIUFiIikqSwEBGRJIWFiIgkKSxERCRJYSEiIkkKCxERSVJYiIhIksJCRESS1srrRGY2GrgBaAU6gOPdfVFRmRZgOnAA0AVc4u6z4rGvAEcDK4F3gfPc/e686iciItXLc2RxDXCVu48GrgJmlChzLLANMAoYB0wzsxHx2GPAWHffETgJuMXM1s2xfiIiUqVcwsLMNgPGAHPjTXOBMWbWVlR0PDDT3TvdvR2YDxwF4O53u/tfY7lngCbCKEVERPpZXiOLocBL7r4SIH5/Od6eNQxYmvl5WYkyAMcDv3f3F3Oqn4iI1CC3NYu8mNnewEXA/j29b2vr4Pwr1Afa2ob0dxX6nNrc+AZae6Gx25xXWCwHtjKzFndfGReyt4y3Zy0DhgOPx5/fN9Iws3HATcBh7u49rURHx1t0dnZVU/9+09Y2hPb2Ff1djT6lNje+gdZeqM82Nzc3VdzJzmUayt1fBZ4GJsSbJgAL47pE1jxgkpk1x/WMw4HbAMxsLHALcKS7P5VHvUREJB95TkOdBtxgZlOB1wnrDpjZHcBUd38CmAPsBhS21F7o7ovjv68G1gVmmFnhnP/q7s/mWEcREalCU1dXfU3bdGMEsFjTUPVBbW58A629UJ9tzkxDjQSWlC3bFxUSEZH6prAQEZEkhYWIiCQpLEREJElhISIiSQoLERFJUliIiEiSwkJERJIUFiIikqSwEBGRJIWFiIgkKSxERCRJYSEiIkkKCxERSVJYiIhIksJCRESSFBYiIpKksBARkSSFhYiIJCksREQkSWEhIiJJCgsREUlSWIiISJLCQkREkhQWIiKSpLAQEZEkhYWIiCQpLEREJElhISIiSQoLERFJUliIiEjSWnmdyMxGAzcArUAHcLy7Lyoq0wJMBw4AuoBL3H1W6piIiPSvPEcW1wBXufto4CpgRokyxwLbAKOAccA0MxtRwTEREelHuYSFmW0GjAHmxpvmAmPMrK2o6Hhgprt3uns7MB84qoJjIiLSj/KahhoKvOTuKwHcfaWZvRxvb8+UGwYszfy8LJZJHavINT/+Na+/+fceVr1/DfpAC+++s7K/q9Gn1ObGN9DaC/XZ5o03WJsvnbR7RWVzW7NYE6w1qIVBH2jp72r0WD3WuVZqc+MbaO2F+mvzWoMqr29eYbEc2MrMWuKoogXYMt6etQwYDjwef86OJsodq8gpB21HZ2dXFdXvP21tQ2hvX9Hf1ehTanPjG2jthfpsc3NzU+Vl83hAd38VeBqYEG+aACyMaw9Z84BJZtYc1zMOB26r4JiIiPSjPHdDnQacZWbPAWfFnzGzO8xs11hmDvACsAh4BLjQ3RdXcExERPpRU1dXfU3bdGMEsLij4y1NQ9UBtbnxDbT2Qn22ubm5idbWwQAjgSVly/ZFhUREpL4pLEREJElhISIiSQoLERFJUliIiEiSwkJERJIUFiIikqSwEBGRJIWFiIgkKSxERCRJYSEiIkkKCxERSVJYiIhIksJCRESSFBYiIpKksBARkSSFhYiIJCksREQkSWEhIiJJCgsREUlSWIiISJLCQkREkhQWIiKSpLAQEZEkhYWIiCQpLEREJElhISIiSQoLERFJUliIiEiSwkJERJLWqvUEZrYecD2wC/AeMMXdF3RTdhJwDtAE3Amc7e6dZnYYMBVYOx67zt0vq7VuIiKSjzxGFlOAN919G+AQYJaZDS4uZGYjgfOBccCo+HVcPPwH4BB33x7YAzjdzPbKoW4iIpKDPMJiPDADwN0XAU8AB5YodyQw393b3b0TmBnvi7s/6u4vx3+/AfwfMDyHuomISA7yCIthwNLMz8uAodWWM7Ntgd2B+3Kom4iI5CC5ZmFmTxEu9KVsnmdlzGwL4MfAGYWRRk+0tq42+1UX2tqG9HcV+pza3PgGWnuhsducDAt3H1PuuJktI0wZtcebhgH3lyhaKEem3PLMeTYD7gW+6e7zUvUqpaPjLTo7u6q5a79paxtCe/uK/q5Gn1KbG99Aay/UZ5ubm5sq7mTnMQ01DzgVwMxGAWOBu0qUux043MzazKwZmATcGu/XCtwDXOnu1+ZQJxERyVEeYXEpsJGZPQ8sACa7+woAM7vQzE4DcPcXgIuAR4BFwAvATfEc5wKjgVPN7On4NTGHuomISA6aurrqa9qmGyOAxZqGqg9qc+MbaO2F+mxzZhpqJLCkbNm+qJCIiNQ3hYWIiCQpLEREJElhISIiSQoLERFJUliIiEiSwkJERJIUFiIikqSwEBGRJIWFiIgkKSxERCRJYSEiIkkKCxERSVJYiIhIksJCRESSFBYiIpKksBARkSSFhYiIJCksREQkSWEhIiJJCgsREUlSWIiISJLCQkREkhQWIiKSpLAQEZEkhYWIiCQpLEREJElhISIiSQoLERFJUliIiEiSwkJERJLWqvUEZrYecD2wC/AeMMXdF3RTdhJwDtAE3Amc7e6dmePrAE8Cb7v7rrXWTURE8pHHyGIK8Ka7bwMcAswys8HFhcxsJHA+MA4YFb+OKyp2MfBIDnUSEZEc5REW44EZAO6+CHgCOLBEuSOB+e7eHkcTM+N9ATCzvQgBMieHOomISI7yCIthwNLMz8uAoT0pZ2brA5cDp+dQHxERyVlyzcLMniJc6EvZPKd6XApc5e4vmdmoak/S2rra7FddaGsb0t9V6HNqc+MbaO2Fxm5zMizcfUy542a2DBgOtMebhgH3lyhaKEem3PL47z2Bg8xsKrAOsLGZPePuO6bql9XR8RadnV09uUu/a2sbQnv7iv6uRp9SmxvfQGsv1Gebm5ubKu5k17wbCpgHnAo8EUcFY4EJJcrdDvzczC4AOoBJwM0A2VAws32A/9JuKBGRNUceaxaXAhuZ2fPAAmCyu68AMLMLzew0AHd/AbiIsNtpEfACcFMOjy8iIr2sqaurvqZtujECWKxpqPqgNje+gdZeqM82Z6ahRgJLypbtiwqJiEh9U1iIiEiSwkJERJIUFiIikqSwEBGRJIWFiIgkKSxERCRJYSEiIkkKCxERSVJYiIhIksJCRESSFBYiIpKksBARkSSFhYiIJCksREQkSWEhIiJJCgsREUlSWIiISJLCQkREkhQWIiKSpLAQEZEkhYWIiCQpLEREJGmt/q5ATloAmpub+rseVanXetdCbW58A629UH9tztS3JVW2qaurq3dr0zf2BB7q70qIiNSpvYCHyxVolLBYGxgLvAKs7Oe6iIjUixZgC+Bx4O/lCjZKWIiISC/SAreIiCQpLEREJElhISIiSQoLERFJUliIiEiSwkJERJIUFiIiktQoH/exxjKz9YDrgV2A94Ap7r6gm7KTgHOAJuBO4Gx378wcXwd4Enjb3Xft7bpXK482m9lhwFTCGy6bgOvc/bK+qH+lzGw0cAPQCnQAx7v7oqIyLcB04ACgC7jE3Weljq2pcmjzV4CjCW+efRc4z93v7rsW9Fytbc6UMWAhcLW7T+mLuudJI4veNwV40923AQ4BZpnZ4OJCZjYSOB8YB4yKX8cVFbsYeKR3q5uLPNr8B+AQd98e2AM43cz26ovK98A1wFXuPhq4CphRosyxwDaEto0DppnZiAqOralqbfNjwFh33xE4CbjFzNbt9VrXptY2F8JkBjC/12vbSxQWvW888ckVeyNPAAeWKHckMN/d2+NoYma8LwDxQjkKmNPrNa5dzW1290fd/eX47zeA/wOG90HdK2JmmwFjgLnxprnAGDNrKyo6Hpjp7p3u3k64WBxVwbE1Th5tdve73f2vsdwzhFFja69Xvko5/Z0BzgUWAM/1cpV7jcKi9w0DlmZ+XgYM7Uk5M1sfuBw4vZfqmLea25xlZtsCuwP35VjHWg0FXnL3lQDx+8usXv9ybaz097SmyKPNWccDv3f3F3uhrnmpuc1mthPwKeDbvV7bXqQ1ixqZ2VOEJ0opm+f0MJcShsEvmdmonM5ZtT5qc+GxtgB+DJxRGGlI/TOzvYGLgP37uy69ycwGAd8DJrr7yrBsUZ8UFjVy9zHljpvZMsL0SXu8aRhwf4mihXJkyi2P/94TOMjMpgLrABub2TNx3rfP9VGbC1MA9wLfdPd5tdS5FywHtjKzlngRaAG2JFP/qNDGx+PP2R5ouWNrojzajJmNA24CDnN37/1q16TWNm8BfBi4IwbFRkCTmW3g7pP7ogF50TRU75sHnAoQRwVjgbtKlLsdONzM2sysGZgE3Arg7ju6+wh3H0HYSfJsfwVFhWpus5m1AvcAV7r7tX1S6x5w91eBp4EJ8aYJwMI4X501D5hkZs1xnvtw4LYKjq1x8mizmY0FbgGOdPen+qbm1au1ze6+zN03zbx+L+Cf0ioAAACrSURBVCesbdRVUIDCoi9cCmxkZs8TFrgmu/sKADO70MxOA3D3FwjD8keARcALhN5XPcqjzecCo4FTzezp+DWxj9uRchpwlpk9B5wVf8bM7jCzwtbmOYR2LSK080J3X1zBsTVVrW2+GlgXmJH5u+7Qpy3ouVrb3BD0/1mIiEiSRhYiIpKksBARkSSFhYiIJCksREQkSWEhIiJJCgsREUlSWIiISJLCQkREkv4/aZtG8twsQDAAAAAASUVORK5CYII=\n",
>>>>>>> upstream/master
            "text/plain": [
              "<Figure size 432x288 with 1 Axes>"
            ]
          },
          "metadata": {
            "tags": []
          }
        }
      ]
    },
    {
      "cell_type": "code",
      "metadata": {
        "id": "PuGjzJMO_Hs0",
        "colab_type": "code",
        "colab": {
          "base_uri": "https://localhost:8080/",
          "height": 289
        },
<<<<<<< HEAD
        "outputId": "e3e2aa87-612f-4d6f-aa4e-ec03c8e00d21"
=======
        "outputId": "138d0e7a-022d-49f8-dec8-4fc754475ff9"
>>>>>>> upstream/master
      },
      "source": [
        "df['res_ar_1_i_1_ma_1'] = results_ar_1_i_1_ma_1.resid.iloc[:]\n",
        "sgt.plot_acf(df.res_ar_1_i_1_ma_1[1:], zero = False, lags = 40)\n",
        "plt.title(\"ACF Of Residuals for ARIMA(1,1,1)\",size=20)\n",
        "plt.show()"
      ],
<<<<<<< HEAD
      "execution_count": 17,
=======
      "execution_count": 10,
>>>>>>> upstream/master
      "outputs": [
        {
          "output_type": "display_data",
          "data": {
<<<<<<< HEAD
            "image/png": "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\n",
=======
            "image/png": "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\n",
>>>>>>> upstream/master
            "text/plain": [
              "<Figure size 432x288 with 1 Axes>"
            ]
          },
          "metadata": {
            "tags": []
          }
        }
      ]
    },
    {
      "cell_type": "markdown",
      "metadata": {
        "id": "m8DNsUm3_Hs4",
        "colab_type": "text"
      },
      "source": [
        "## Higher-Lag ARIMA Models"
      ]
    },
    {
      "cell_type": "code",
      "metadata": {
        "id": "SCTSqbZ1_Hs4",
        "colab_type": "code",
        "colab": {}
      },
      "source": [
        "model_ar_1_i_1_ma_2 = ARIMA(df.market_value, order=(1,1,2))\n",
        "results_ar_1_i_1_ma_2 = model_ar_1_i_1_ma_2.fit()\n",
        "model_ar_1_i_1_ma_3 = ARIMA(df.market_value, order=(1,1,3))\n",
        "results_ar_1_i_1_ma_3 = model_ar_1_i_1_ma_3.fit()\n",
        "model_ar_2_i_1_ma_1 = ARIMA(df.market_value, order=(2,1,1))\n",
        "results_ar_2_i_1_ma_1 = model_ar_2_i_1_ma_1.fit()\n",
        "model_ar_3_i_1_ma_1 = ARIMA(df.market_value, order=(3,1,1))\n",
        "results_ar_3_i_1_ma_1 = model_ar_3_i_1_ma_1.fit()\n",
        "model_ar_3_i_1_ma_2 = ARIMA(df.market_value, order=(3,1,2))\n",
        "results_ar_3_i_1_ma_2 = model_ar_3_i_1_ma_2.fit(start_ar_lags=5)"
      ],
<<<<<<< HEAD
      "execution_count": 18,
=======
      "execution_count": 11,
>>>>>>> upstream/master
      "outputs": []
    },
    {
      "cell_type": "code",
      "metadata": {
        "id": "ViWXHo5c_Hs7",
        "colab_type": "code",
        "colab": {
          "base_uri": "https://localhost:8080/",
<<<<<<< HEAD
          "height": 123
        },
        "outputId": "9e16f1bf-2abb-40bd-f929-20a989f51c5f"
=======
          "height": 119
        },
        "outputId": "3bc29874-1244-4a87-dc64-f658ab898197"
>>>>>>> upstream/master
      },
      "source": [
        "print(\"ARIMA(1,1,1):  \\t LL = \", results_ar_1_i_1_ma_1.llf, \"\\t AIC = \", results_ar_1_i_1_ma_1.aic)\n",
        "print(\"ARIMA(1,1,2):  \\t LL = \", results_ar_1_i_1_ma_2.llf, \"\\t AIC = \", results_ar_1_i_1_ma_2.aic)\n",
        "print(\"ARIMA(1,1,3):  \\t LL = \", results_ar_1_i_1_ma_3.llf, \"\\t AIC = \", results_ar_1_i_1_ma_3.aic)\n",
        "print(\"ARIMA(2,1,1):  \\t LL = \", results_ar_2_i_1_ma_1.llf, \"\\t AIC = \", results_ar_2_i_1_ma_1.aic)\n",
        "print(\"ARIMA(3,1,1):  \\t LL = \", results_ar_3_i_1_ma_1.llf, \"\\t AIC = \", results_ar_3_i_1_ma_1.aic)\n",
        "print(\"ARIMA(3,1,2):  \\t LL = \", results_ar_3_i_1_ma_2.llf, \"\\t AIC = \", results_ar_3_i_1_ma_2.aic)"
      ],
<<<<<<< HEAD
      "execution_count": null,
=======
      "execution_count": 12,
>>>>>>> upstream/master
      "outputs": [
        {
          "output_type": "stream",
          "text": [
            "ARIMA(1,1,1):  \t LL =  -27603.666412765342 \t AIC =  55215.332825530684\n",
            "ARIMA(1,1,2):  \t LL =  -27600.081863115072 \t AIC =  55210.163726230145\n",
            "ARIMA(1,1,3):  \t LL =  -27590.424032512823 \t AIC =  55192.848065025646\n",
            "ARIMA(2,1,1):  \t LL =  -27599.807487862716 \t AIC =  55209.61497572543\n",
            "ARIMA(3,1,1):  \t LL =  -27592.05537171564 \t AIC =  55196.11074343128\n",
            "ARIMA(3,1,2):  \t LL =  -27590.660808971894 \t AIC =  55195.32161794379\n"
          ],
          "name": "stdout"
        }
      ]
    },
    {
      "cell_type": "code",
      "metadata": {
        "id": "buRaDHDo_Hs_",
        "colab_type": "code",
        "colab": {
          "base_uri": "https://localhost:8080/",
<<<<<<< HEAD
          "height": 52
        },
        "outputId": "db07cc25-eaeb-4c99-9d67-c2fe8eedab8b"
=======
          "height": 51
        },
        "outputId": "f368930c-f133-4e27-af4e-3ba2d8dec03d"
>>>>>>> upstream/master
      },
      "source": [
        "print(\"\\nLLR test p-value = \" + str(LLR_test(results_ar_1_i_1_ma_2, results_ar_1_i_1_ma_3)))"
      ],
<<<<<<< HEAD
      "execution_count": 19,
=======
      "execution_count": 13,
>>>>>>> upstream/master
      "outputs": [
        {
          "output_type": "stream",
          "text": [
            "\n",
            "LLR test p-value = 0.0\n"
          ],
          "name": "stdout"
        }
      ]
    },
    {
      "cell_type": "code",
      "metadata": {
        "id": "J3RzLwYC_HtC",
        "colab_type": "code",
        "colab": {
          "base_uri": "https://localhost:8080/",
<<<<<<< HEAD
          "height": 52
        },
        "outputId": "3ffcc8d7-84f8-49a6-f88f-937bc2ceea43"
=======
          "height": 51
        },
        "outputId": "e7c1a18e-ef7e-4a61-e230-d5f778479631"
>>>>>>> upstream/master
      },
      "source": [
        "print(\"\\nLLR test p-value = \" + str(LLR_test(results_ar_1_i_1_ma_1, results_ar_1_i_1_ma_3, DF = 2)))"
      ],
<<<<<<< HEAD
      "execution_count": 20,
=======
      "execution_count": 14,
>>>>>>> upstream/master
      "outputs": [
        {
          "output_type": "stream",
          "text": [
            "\n",
            "LLR test p-value = 0.0\n"
          ],
          "name": "stdout"
        }
      ]
    },
    {
      "cell_type": "code",
      "metadata": {
        "id": "HHFATUhd_HtE",
        "colab_type": "code",
        "colab": {
          "base_uri": "https://localhost:8080/",
          "height": 289
        },
<<<<<<< HEAD
        "outputId": "69d73859-4ab8-48e9-dde3-68cacad48ddb"
=======
        "outputId": "e6be03e2-1a2f-4c33-f512-241ead0e33d8"
>>>>>>> upstream/master
      },
      "source": [
        "df['res_ar_1_i_1_ma_3'] = results_ar_1_i_1_ma_3.resid\n",
        "sgt.plot_acf(df.res_ar_1_i_1_ma_3[1:], zero = False, lags = 40)\n",
        "plt.title(\"ACF Of Residuals for ARIMA(1,1,3)\", size=20)\n",
        "plt.show()"
      ],
<<<<<<< HEAD
      "execution_count": 21,
=======
      "execution_count": 15,
>>>>>>> upstream/master
      "outputs": [
        {
          "output_type": "display_data",
          "data": {
<<<<<<< HEAD
            "image/png": "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\n",
=======
            "image/png": "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\n",
>>>>>>> upstream/master
            "text/plain": [
              "<Figure size 432x288 with 1 Axes>"
            ]
          },
          "metadata": {
            "tags": []
          }
        }
      ]
    },
    {
      "cell_type": "code",
      "metadata": {
        "id": "hhGNSegg_HtH",
        "colab_type": "code",
        "colab": {
          "base_uri": "https://localhost:8080/",
<<<<<<< HEAD
          "height": 528
        },
        "outputId": "03c26156-6dea-411b-f19f-5c43852f2ef8"
=======
          "height": 519
        },
        "outputId": "32f6730f-ae20-4ad6-9045-c446864729a8"
>>>>>>> upstream/master
      },
      "source": [
        "model_ar_5_i_1_ma_1 = ARIMA(df.market_value, order=(5,1,1))\n",
        "results_ar_5_i_1_ma_1 = model_ar_5_i_1_ma_1.fit(start_ar_lags=11)\n",
        "results_ar_5_i_1_ma_1.summary()"
      ],
<<<<<<< HEAD
      "execution_count": 22,
=======
      "execution_count": 16,
>>>>>>> upstream/master
      "outputs": [
        {
          "output_type": "execute_result",
          "data": {
            "text/html": [
              "<table class=\"simpletable\">\n",
              "<caption>ARIMA Model Results</caption>\n",
              "<tr>\n",
              "  <th>Dep. Variable:</th>  <td>D.market_value</td>  <th>  No. Observations:  </th>    <td>5020</td>   \n",
              "</tr>\n",
              "<tr>\n",
              "  <th>Model:</th>          <td>ARIMA(5, 1, 1)</td>  <th>  Log Likelihood     </th> <td>-27586.512</td>\n",
              "</tr>\n",
              "<tr>\n",
              "  <th>Method:</th>             <td>css-mle</td>     <th>  S.D. of innovations</th>   <td>58.932</td>  \n",
              "</tr>\n",
              "<tr>\n",
<<<<<<< HEAD
              "  <th>Date:</th>          <td>Mon, 13 Jul 2020</td> <th>  AIC                </th>  <td>55189.024</td>\n",
              "</tr>\n",
              "<tr>\n",
              "  <th>Time:</th>              <td>18:39:54</td>     <th>  BIC                </th>  <td>55241.193</td>\n",
=======
              "  <th>Date:</th>          <td>Tue, 11 Aug 2020</td> <th>  AIC                </th>  <td>55189.024</td>\n",
              "</tr>\n",
              "<tr>\n",
              "  <th>Time:</th>              <td>15:00:18</td>     <th>  BIC                </th>  <td>55241.193</td>\n",
>>>>>>> upstream/master
              "</tr>\n",
              "<tr>\n",
              "  <th>Sample:</th>           <td>01-10-1994</td>    <th>  HQIC               </th>  <td>55207.305</td>\n",
              "</tr>\n",
              "<tr>\n",
              "  <th></th>                 <td>- 04-05-2013</td>   <th>                     </th>      <td> </td>    \n",
              "</tr>\n",
              "</table>\n",
              "<table class=\"simpletable\">\n",
              "<tr>\n",
              "            <td></td>              <th>coef</th>     <th>std err</th>      <th>z</th>      <th>P>|z|</th>  <th>[0.025</th>    <th>0.975]</th>  \n",
              "</tr>\n",
              "<tr>\n",
              "  <th>const</th>                <td>    0.5663</td> <td>    0.690</td> <td>    0.820</td> <td> 0.412</td> <td>   -0.787</td> <td>    1.919</td>\n",
              "</tr>\n",
              "<tr>\n",
              "  <th>ar.L1.D.market_value</th> <td>    0.4011</td> <td>    0.159</td> <td>    2.530</td> <td> 0.011</td> <td>    0.090</td> <td>    0.712</td>\n",
              "</tr>\n",
              "<tr>\n",
              "  <th>ar.L2.D.market_value</th> <td>   -0.0445</td> <td>    0.016</td> <td>   -2.856</td> <td> 0.004</td> <td>   -0.075</td> <td>   -0.014</td>\n",
              "</tr>\n",
              "<tr>\n",
              "  <th>ar.L3.D.market_value</th> <td>   -0.0543</td> <td>    0.017</td> <td>   -3.163</td> <td> 0.002</td> <td>   -0.088</td> <td>   -0.021</td>\n",
              "</tr>\n",
              "<tr>\n",
              "  <th>ar.L4.D.market_value</th> <td>    0.0586</td> <td>    0.019</td> <td>    3.069</td> <td> 0.002</td> <td>    0.021</td> <td>    0.096</td>\n",
              "</tr>\n",
              "<tr>\n",
              "  <th>ar.L5.D.market_value</th> <td>   -0.0581</td> <td>    0.014</td> <td>   -4.118</td> <td> 0.000</td> <td>   -0.086</td> <td>   -0.030</td>\n",
              "</tr>\n",
              "<tr>\n",
              "  <th>ma.L1.D.market_value</th> <td>   -0.4213</td> <td>    0.158</td> <td>   -2.659</td> <td> 0.008</td> <td>   -0.732</td> <td>   -0.111</td>\n",
              "</tr>\n",
              "</table>\n",
              "<table class=\"simpletable\">\n",
              "<caption>Roots</caption>\n",
              "<tr>\n",
              "    <td></td>   <th>            Real</th>  <th>         Imaginary</th> <th>         Modulus</th>  <th>        Frequency</th>\n",
              "</tr>\n",
              "<tr>\n",
              "  <th>AR.1</th> <td>          -1.7609</td> <td>          -0.0000j</td> <td>           1.7609</td> <td>          -0.5000</td>\n",
              "</tr>\n",
              "<tr>\n",
              "  <th>AR.2</th> <td>           1.4633</td> <td>          -0.8605j</td> <td>           1.6975</td> <td>          -0.0846</td>\n",
              "</tr>\n",
              "<tr>\n",
              "  <th>AR.3</th> <td>           1.4633</td> <td>          +0.8605j</td> <td>           1.6975</td> <td>           0.0846</td>\n",
              "</tr>\n",
              "<tr>\n",
              "  <th>AR.4</th> <td>          -0.0790</td> <td>          -1.8393j</td> <td>           1.8410</td> <td>          -0.2568</td>\n",
              "</tr>\n",
              "<tr>\n",
              "  <th>AR.5</th> <td>          -0.0790</td> <td>          +1.8393j</td> <td>           1.8410</td> <td>           0.2568</td>\n",
              "</tr>\n",
              "<tr>\n",
              "  <th>MA.1</th> <td>           2.3734</td> <td>          +0.0000j</td> <td>           2.3734</td> <td>           0.0000</td>\n",
              "</tr>\n",
              "</table>"
            ],
            "text/plain": [
              "<class 'statsmodels.iolib.summary.Summary'>\n",
              "\"\"\"\n",
              "                             ARIMA Model Results                              \n",
              "==============================================================================\n",
              "Dep. Variable:         D.market_value   No. Observations:                 5020\n",
              "Model:                 ARIMA(5, 1, 1)   Log Likelihood              -27586.512\n",
              "Method:                       css-mle   S.D. of innovations             58.932\n",
<<<<<<< HEAD
              "Date:                Mon, 13 Jul 2020   AIC                          55189.024\n",
              "Time:                        18:39:54   BIC                          55241.193\n",
=======
              "Date:                Tue, 11 Aug 2020   AIC                          55189.024\n",
              "Time:                        15:00:18   BIC                          55241.193\n",
>>>>>>> upstream/master
              "Sample:                    01-10-1994   HQIC                         55207.305\n",
              "                         - 04-05-2013                                         \n",
              "========================================================================================\n",
              "                           coef    std err          z      P>|z|      [0.025      0.975]\n",
              "----------------------------------------------------------------------------------------\n",
              "const                    0.5663      0.690      0.820      0.412      -0.787       1.919\n",
              "ar.L1.D.market_value     0.4011      0.159      2.530      0.011       0.090       0.712\n",
              "ar.L2.D.market_value    -0.0445      0.016     -2.856      0.004      -0.075      -0.014\n",
              "ar.L3.D.market_value    -0.0543      0.017     -3.163      0.002      -0.088      -0.021\n",
              "ar.L4.D.market_value     0.0586      0.019      3.069      0.002       0.021       0.096\n",
              "ar.L5.D.market_value    -0.0581      0.014     -4.118      0.000      -0.086      -0.030\n",
              "ma.L1.D.market_value    -0.4213      0.158     -2.659      0.008      -0.732      -0.111\n",
              "                                    Roots                                    \n",
              "=============================================================================\n",
              "                  Real          Imaginary           Modulus         Frequency\n",
              "-----------------------------------------------------------------------------\n",
              "AR.1           -1.7609           -0.0000j            1.7609           -0.5000\n",
              "AR.2            1.4633           -0.8605j            1.6975           -0.0846\n",
              "AR.3            1.4633           +0.8605j            1.6975            0.0846\n",
              "AR.4           -0.0790           -1.8393j            1.8410           -0.2568\n",
              "AR.5           -0.0790           +1.8393j            1.8410            0.2568\n",
              "MA.1            2.3734           +0.0000j            2.3734            0.0000\n",
              "-----------------------------------------------------------------------------\n",
              "\"\"\""
            ]
          },
          "metadata": {
            "tags": []
          },
<<<<<<< HEAD
          "execution_count": 22
=======
          "execution_count": 16
>>>>>>> upstream/master
        }
      ]
    },
    {
      "cell_type": "code",
      "metadata": {
        "id": "myDm8418_HtN",
        "colab_type": "code",
        "colab": {
          "base_uri": "https://localhost:8080/",
<<<<<<< HEAD
          "height": 52
        },
        "outputId": "00e85593-c744-4d22-bbdd-e80ec80f6835"
=======
          "height": 51
        },
        "outputId": "91a8ca35-97f1-4182-89a4-10f9be25ae00"
>>>>>>> upstream/master
      },
      "source": [
        "print(\"ARIMA(1,1,3):  \\t LL = \", results_ar_1_i_1_ma_3.llf, \"\\t AIC = \", results_ar_1_i_1_ma_3.aic)\n",
        "print(\"ARIMA(5,1,1):  \\t LL = \", results_ar_5_i_1_ma_1.llf, \"\\t AIC = \", results_ar_5_i_1_ma_1.aic)\n"
      ],
<<<<<<< HEAD
      "execution_count": 23,
=======
      "execution_count": 17,
>>>>>>> upstream/master
      "outputs": [
        {
          "output_type": "stream",
          "text": [
            "ARIMA(1,1,3):  \t LL =  -27590.424032512823 \t AIC =  55192.848065025646\n",
            "ARIMA(5,1,1):  \t LL =  -27586.51188810907 \t AIC =  55189.02377621814\n"
          ],
          "name": "stdout"
        }
      ]
    },
    {
      "cell_type": "code",
      "metadata": {
        "id": "WbiitMlR_HtV",
        "colab_type": "code",
        "colab": {
          "base_uri": "https://localhost:8080/",
          "height": 289
        },
<<<<<<< HEAD
        "outputId": "33a97c79-d316-4f51-ef63-23e0bc8aeccf"
=======
        "outputId": "23531efb-db45-4b72-a06d-90d22dce1f94"
>>>>>>> upstream/master
      },
      "source": [
        "df['res_ar_5_i_1_ma_1'] = results_ar_5_i_1_ma_1.resid\n",
        "sgt.plot_acf(df.res_ar_5_i_1_ma_1[1:], zero = False, lags = 40)\n",
        "plt.title(\"ACF Of Residuals for ARIMA(5,1,1)\", size=20)\n",
        "plt.show()"
      ],
<<<<<<< HEAD
      "execution_count": 24,
=======
      "execution_count": 18,
>>>>>>> upstream/master
      "outputs": [
        {
          "output_type": "display_data",
          "data": {
<<<<<<< HEAD
            "image/png": "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\n",
=======
            "image/png": "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\n",
>>>>>>> upstream/master
            "text/plain": [
              "<Figure size 432x288 with 1 Axes>"
            ]
          },
          "metadata": {
            "tags": []
          }
        }
      ]
    },
    {
      "cell_type": "markdown",
      "metadata": {
        "id": "jekdLhe0_HtY",
        "colab_type": "text"
      },
      "source": [
        "## Models with Higher Levels of Integration"
      ]
    },
    {
      "cell_type": "code",
      "metadata": {
        "id": "S91XIg5d_HtY",
        "colab_type": "code",
        "colab": {}
      },
      "source": [
        "df['delta_prices']=df.market_value.diff(1) #integration is diff xt-1 - xt"
      ],
<<<<<<< HEAD
      "execution_count": 26,
=======
      "execution_count": 19,
>>>>>>> upstream/master
      "outputs": []
    },
    {
      "cell_type": "code",
      "metadata": {
        "scrolled": true,
        "id": "WbJZ7Es0_Htd",
        "colab_type": "code",
        "colab": {
          "base_uri": "https://localhost:8080/",
<<<<<<< HEAD
          "height": 357
        },
        "outputId": "08ba30e3-2602-463a-d892-df4711be8926"
=======
          "height": 351
        },
        "outputId": "9c6e3014-5b78-4085-c6cf-d971ed7af9c6"
>>>>>>> upstream/master
      },
      "source": [
        "model_delta_ar_1_i_1_ma_1 = ARIMA(df.delta_prices[1:], order=(1,0,1))\n",
        "results_delta_ar_1_i_1_ma_1 = model_delta_ar_1_i_1_ma_1.fit()\n",
        "results_delta_ar_1_i_1_ma_1.summary()"
      ],
<<<<<<< HEAD
      "execution_count": 27,
=======
      "execution_count": 20,
>>>>>>> upstream/master
      "outputs": [
        {
          "output_type": "execute_result",
          "data": {
            "text/html": [
              "<table class=\"simpletable\">\n",
              "<caption>ARMA Model Results</caption>\n",
              "<tr>\n",
              "  <th>Dep. Variable:</th>   <td>delta_prices</td>   <th>  No. Observations:  </th>    <td>5020</td>   \n",
              "</tr>\n",
              "<tr>\n",
              "  <th>Model:</th>            <td>ARMA(1, 1)</td>    <th>  Log Likelihood     </th> <td>-27603.666</td>\n",
              "</tr>\n",
              "<tr>\n",
              "  <th>Method:</th>             <td>css-mle</td>     <th>  S.D. of innovations</th>   <td>59.134</td>  \n",
              "</tr>\n",
              "<tr>\n",
<<<<<<< HEAD
              "  <th>Date:</th>          <td>Mon, 13 Jul 2020</td> <th>  AIC                </th>  <td>55215.333</td>\n",
              "</tr>\n",
              "<tr>\n",
              "  <th>Time:</th>              <td>18:42:19</td>     <th>  BIC                </th>  <td>55241.418</td>\n",
=======
              "  <th>Date:</th>          <td>Tue, 11 Aug 2020</td> <th>  AIC                </th>  <td>55215.333</td>\n",
              "</tr>\n",
              "<tr>\n",
              "  <th>Time:</th>              <td>15:00:32</td>     <th>  BIC                </th>  <td>55241.418</td>\n",
>>>>>>> upstream/master
              "</tr>\n",
              "<tr>\n",
              "  <th>Sample:</th>           <td>01-10-1994</td>    <th>  HQIC               </th>  <td>55224.473</td>\n",
              "</tr>\n",
              "<tr>\n",
              "  <th></th>                 <td>- 04-05-2013</td>   <th>                     </th>      <td> </td>    \n",
              "</tr>\n",
              "</table>\n",
              "<table class=\"simpletable\">\n",
              "<tr>\n",
              "           <td></td>             <th>coef</th>     <th>std err</th>      <th>z</th>      <th>P>|z|</th>  <th>[0.025</th>    <th>0.975]</th>  \n",
              "</tr>\n",
              "<tr>\n",
              "  <th>const</th>              <td>    0.5655</td> <td>    0.682</td> <td>    0.829</td> <td> 0.407</td> <td>   -0.772</td> <td>    1.903</td>\n",
              "</tr>\n",
              "<tr>\n",
              "  <th>ar.L1.delta_prices</th> <td>    0.7475</td> <td>    0.070</td> <td>   10.652</td> <td> 0.000</td> <td>    0.610</td> <td>    0.885</td>\n",
              "</tr>\n",
              "<tr>\n",
              "  <th>ma.L1.delta_prices</th> <td>   -0.7936</td> <td>    0.064</td> <td>  -12.378</td> <td> 0.000</td> <td>   -0.919</td> <td>   -0.668</td>\n",
              "</tr>\n",
              "</table>\n",
              "<table class=\"simpletable\">\n",
              "<caption>Roots</caption>\n",
              "<tr>\n",
              "    <td></td>   <th>            Real</th>  <th>         Imaginary</th> <th>         Modulus</th>  <th>        Frequency</th>\n",
              "</tr>\n",
              "<tr>\n",
              "  <th>AR.1</th> <td>           1.3378</td> <td>          +0.0000j</td> <td>           1.3378</td> <td>           0.0000</td>\n",
              "</tr>\n",
              "<tr>\n",
              "  <th>MA.1</th> <td>           1.2601</td> <td>          +0.0000j</td> <td>           1.2601</td> <td>           0.0000</td>\n",
              "</tr>\n",
              "</table>"
            ],
            "text/plain": [
              "<class 'statsmodels.iolib.summary.Summary'>\n",
              "\"\"\"\n",
              "                              ARMA Model Results                              \n",
              "==============================================================================\n",
              "Dep. Variable:           delta_prices   No. Observations:                 5020\n",
              "Model:                     ARMA(1, 1)   Log Likelihood              -27603.666\n",
              "Method:                       css-mle   S.D. of innovations             59.134\n",
<<<<<<< HEAD
              "Date:                Mon, 13 Jul 2020   AIC                          55215.333\n",
              "Time:                        18:42:19   BIC                          55241.418\n",
=======
              "Date:                Tue, 11 Aug 2020   AIC                          55215.333\n",
              "Time:                        15:00:32   BIC                          55241.418\n",
>>>>>>> upstream/master
              "Sample:                    01-10-1994   HQIC                         55224.473\n",
              "                         - 04-05-2013                                         \n",
              "======================================================================================\n",
              "                         coef    std err          z      P>|z|      [0.025      0.975]\n",
              "--------------------------------------------------------------------------------------\n",
              "const                  0.5655      0.682      0.829      0.407      -0.772       1.903\n",
              "ar.L1.delta_prices     0.7475      0.070     10.652      0.000       0.610       0.885\n",
              "ma.L1.delta_prices    -0.7936      0.064    -12.378      0.000      -0.919      -0.668\n",
              "                                    Roots                                    \n",
              "=============================================================================\n",
              "                  Real          Imaginary           Modulus         Frequency\n",
              "-----------------------------------------------------------------------------\n",
              "AR.1            1.3378           +0.0000j            1.3378            0.0000\n",
              "MA.1            1.2601           +0.0000j            1.2601            0.0000\n",
              "-----------------------------------------------------------------------------\n",
              "\"\"\""
            ]
          },
          "metadata": {
            "tags": []
          },
<<<<<<< HEAD
          "execution_count": 27
=======
          "execution_count": 20
>>>>>>> upstream/master
        }
      ]
    },
    {
      "cell_type": "code",
      "metadata": {
        "id": "uj90onbul0DD",
        "colab_type": "code",
        "colab": {
          "base_uri": "https://localhost:8080/",
<<<<<<< HEAD
          "height": 357
        },
        "outputId": "2f90e8a0-3904-4808-ae57-4657206c59e7"
=======
          "height": 351
        },
        "outputId": "9b58204a-c7e2-4d77-ce6b-84642867480b"
>>>>>>> upstream/master
      },
      "source": [
        "model_ar_1_i_1_ma_1 = ARIMA(df.market_value, order=(1,1,1))\n",
        "results_ar_1_i_1_ma_1 = model_ar_1_i_1_ma_1.fit()\n",
        "results_ar_1_i_1_ma_1.summary()"
      ],
<<<<<<< HEAD
      "execution_count": 28,
=======
      "execution_count": 21,
>>>>>>> upstream/master
      "outputs": [
        {
          "output_type": "execute_result",
          "data": {
            "text/html": [
              "<table class=\"simpletable\">\n",
              "<caption>ARIMA Model Results</caption>\n",
              "<tr>\n",
              "  <th>Dep. Variable:</th>  <td>D.market_value</td>  <th>  No. Observations:  </th>    <td>5020</td>   \n",
              "</tr>\n",
              "<tr>\n",
              "  <th>Model:</th>          <td>ARIMA(1, 1, 1)</td>  <th>  Log Likelihood     </th> <td>-27603.666</td>\n",
              "</tr>\n",
              "<tr>\n",
              "  <th>Method:</th>             <td>css-mle</td>     <th>  S.D. of innovations</th>   <td>59.134</td>  \n",
              "</tr>\n",
              "<tr>\n",
<<<<<<< HEAD
              "  <th>Date:</th>          <td>Mon, 13 Jul 2020</td> <th>  AIC                </th>  <td>55215.333</td>\n",
              "</tr>\n",
              "<tr>\n",
              "  <th>Time:</th>              <td>18:46:01</td>     <th>  BIC                </th>  <td>55241.418</td>\n",
=======
              "  <th>Date:</th>          <td>Tue, 11 Aug 2020</td> <th>  AIC                </th>  <td>55215.333</td>\n",
              "</tr>\n",
              "<tr>\n",
              "  <th>Time:</th>              <td>15:02:24</td>     <th>  BIC                </th>  <td>55241.418</td>\n",
>>>>>>> upstream/master
              "</tr>\n",
              "<tr>\n",
              "  <th>Sample:</th>           <td>01-10-1994</td>    <th>  HQIC               </th>  <td>55224.473</td>\n",
              "</tr>\n",
              "<tr>\n",
              "  <th></th>                 <td>- 04-05-2013</td>   <th>                     </th>      <td> </td>    \n",
              "</tr>\n",
              "</table>\n",
              "<table class=\"simpletable\">\n",
              "<tr>\n",
              "            <td></td>              <th>coef</th>     <th>std err</th>      <th>z</th>      <th>P>|z|</th>  <th>[0.025</th>    <th>0.975]</th>  \n",
              "</tr>\n",
              "<tr>\n",
              "  <th>const</th>                <td>    0.5655</td> <td>    0.682</td> <td>    0.829</td> <td> 0.407</td> <td>   -0.772</td> <td>    1.903</td>\n",
              "</tr>\n",
              "<tr>\n",
              "  <th>ar.L1.D.market_value</th> <td>    0.7475</td> <td>    0.070</td> <td>   10.652</td> <td> 0.000</td> <td>    0.610</td> <td>    0.885</td>\n",
              "</tr>\n",
              "<tr>\n",
              "  <th>ma.L1.D.market_value</th> <td>   -0.7936</td> <td>    0.064</td> <td>  -12.378</td> <td> 0.000</td> <td>   -0.919</td> <td>   -0.668</td>\n",
              "</tr>\n",
              "</table>\n",
              "<table class=\"simpletable\">\n",
              "<caption>Roots</caption>\n",
              "<tr>\n",
              "    <td></td>   <th>            Real</th>  <th>         Imaginary</th> <th>         Modulus</th>  <th>        Frequency</th>\n",
              "</tr>\n",
              "<tr>\n",
              "  <th>AR.1</th> <td>           1.3378</td> <td>          +0.0000j</td> <td>           1.3378</td> <td>           0.0000</td>\n",
              "</tr>\n",
              "<tr>\n",
              "  <th>MA.1</th> <td>           1.2601</td> <td>          +0.0000j</td> <td>           1.2601</td> <td>           0.0000</td>\n",
              "</tr>\n",
              "</table>"
            ],
            "text/plain": [
              "<class 'statsmodels.iolib.summary.Summary'>\n",
              "\"\"\"\n",
              "                             ARIMA Model Results                              \n",
              "==============================================================================\n",
              "Dep. Variable:         D.market_value   No. Observations:                 5020\n",
              "Model:                 ARIMA(1, 1, 1)   Log Likelihood              -27603.666\n",
              "Method:                       css-mle   S.D. of innovations             59.134\n",
<<<<<<< HEAD
              "Date:                Mon, 13 Jul 2020   AIC                          55215.333\n",
              "Time:                        18:46:01   BIC                          55241.418\n",
=======
              "Date:                Tue, 11 Aug 2020   AIC                          55215.333\n",
              "Time:                        15:02:24   BIC                          55241.418\n",
>>>>>>> upstream/master
              "Sample:                    01-10-1994   HQIC                         55224.473\n",
              "                         - 04-05-2013                                         \n",
              "========================================================================================\n",
              "                           coef    std err          z      P>|z|      [0.025      0.975]\n",
              "----------------------------------------------------------------------------------------\n",
              "const                    0.5655      0.682      0.829      0.407      -0.772       1.903\n",
              "ar.L1.D.market_value     0.7475      0.070     10.652      0.000       0.610       0.885\n",
              "ma.L1.D.market_value    -0.7936      0.064    -12.378      0.000      -0.919      -0.668\n",
              "                                    Roots                                    \n",
              "=============================================================================\n",
              "                  Real          Imaginary           Modulus         Frequency\n",
              "-----------------------------------------------------------------------------\n",
              "AR.1            1.3378           +0.0000j            1.3378            0.0000\n",
              "MA.1            1.2601           +0.0000j            1.2601            0.0000\n",
              "-----------------------------------------------------------------------------\n",
              "\"\"\""
            ]
          },
          "metadata": {
            "tags": []
          },
<<<<<<< HEAD
          "execution_count": 28
=======
          "execution_count": 21
>>>>>>> upstream/master
        }
      ]
    },
    {
      "cell_type": "code",
      "metadata": {
        "id": "k0jyXYv8_Hti",
        "colab_type": "code",
        "colab": {
          "base_uri": "https://localhost:8080/",
<<<<<<< HEAD
          "height": 156
        },
        "outputId": "90239d98-4b6e-4f19-cedc-ca4e92032062"
=======
          "height": 153
        },
        "outputId": "ed0b628d-92af-47b4-f35a-7c2be42f70f0"
>>>>>>> upstream/master
      },
      "source": [
        "sts.adfuller(df.delta_prices[1:]) #significant p-value reject non-stationarity"
      ],
<<<<<<< HEAD
      "execution_count": 31,
=======
      "execution_count": 22,
>>>>>>> upstream/master
      "outputs": [
        {
          "output_type": "execute_result",
          "data": {
            "text/plain": [
              "(-32.244093495707475,\n",
              " 0.0,\n",
              " 5,\n",
              " 5014,\n",
              " {'1%': -3.4316548765428174,\n",
              "  '10%': -2.5670769326348926,\n",
              "  '5%': -2.8621166146845334},\n",
              " 54845.96104221891)"
            ]
          },
          "metadata": {
            "tags": []
          },
<<<<<<< HEAD
          "execution_count": 31
=======
          "execution_count": 22
>>>>>>> upstream/master
        }
      ]
    },
    {
      "cell_type": "markdown",
      "metadata": {
        "id": "4-IIe77P_Htr",
        "colab_type": "text"
      },
      "source": [
        "## ARIMAX "
      ]
    },
    {
      "cell_type": "code",
      "metadata": {
        "id": "s5pznOcN_Htr",
        "colab_type": "code",
        "colab": {
          "base_uri": "https://localhost:8080/",
<<<<<<< HEAD
          "height": 320
        },
        "outputId": "fb014699-bdbc-434f-dd7a-3a48082db04c"
=======
          "height": 372
        },
        "outputId": "1a4be2e3-b8a4-4630-8622-127830674dec"
>>>>>>> upstream/master
      },
      "source": [
        "model_ar_1_i_1_ma_1_Xspx = ARIMA(df.market_value, exog = df.spx, order=(1,1,1))\n",
        "results_ar_1_i_1_ma_1_Xspx = model_ar_1_i_1_ma_1_Xspx.fit()\n",
        "results_ar_1_i_1_ma_1_Xspx.summary()"
      ],
<<<<<<< HEAD
      "execution_count": null,
=======
      "execution_count": 23,
>>>>>>> upstream/master
      "outputs": [
        {
          "output_type": "execute_result",
          "data": {
            "text/html": [
              "<table class=\"simpletable\">\n",
              "<caption>ARIMA Model Results</caption>\n",
              "<tr>\n",
              "  <th>Dep. Variable:</th>  <td>D.market_value</td>  <th>  No. Observations:  </th>    <td>5020</td>   \n",
              "</tr>\n",
              "<tr>\n",
              "  <th>Model:</th>          <td>ARIMA(1, 1, 1)</td>  <th>  Log Likelihood     </th> <td>-27603.556</td>\n",
              "</tr>\n",
              "<tr>\n",
              "  <th>Method:</th>             <td>css-mle</td>     <th>  S.D. of innovations</th>   <td>59.132</td>  \n",
              "</tr>\n",
              "<tr>\n",
              "  <th>Date:</th>          <td>Tue, 11 Aug 2020</td> <th>  AIC                </th>  <td>55217.112</td>\n",
              "</tr>\n",
              "<tr>\n",
              "  <th>Time:</th>              <td>15:15:03</td>     <th>  BIC                </th>  <td>55249.718</td>\n",
              "</tr>\n",
              "<tr>\n",
              "  <th>Sample:</th>           <td>01-10-1994</td>    <th>  HQIC               </th>  <td>55228.538</td>\n",
              "</tr>\n",
              "<tr>\n",
              "  <th></th>                 <td>- 04-05-2013</td>   <th>                     </th>      <td> </td>    \n",
              "</tr>\n",
              "</table>\n",
              "<table class=\"simpletable\">\n",
              "<tr>\n",
              "            <td></td>              <th>coef</th>     <th>std err</th>      <th>z</th>      <th>P>|z|</th>  <th>[0.025</th>    <th>0.975]</th>  \n",
              "</tr>\n",
              "<tr>\n",
              "  <th>const</th>                <td>   -0.5904</td> <td>    2.655</td> <td>   -0.222</td> <td> 0.824</td> <td>   -5.795</td> <td>    4.614</td>\n",
              "</tr>\n",
              "<tr>\n",
              "  <th>spx</th>                  <td>    0.0011</td> <td>    0.002</td> <td>    0.452</td> <td> 0.651</td> <td>   -0.004</td> <td>    0.006</td>\n",
              "</tr>\n",
              "<tr>\n",
              "  <th>ar.L1.D.market_value</th> <td>    0.7455</td> <td>    0.070</td> <td>   10.576</td> <td> 0.000</td> <td>    0.607</td> <td>    0.884</td>\n",
              "</tr>\n",
              "<tr>\n",
              "  <th>ma.L1.D.market_value</th> <td>   -0.7916</td> <td>    0.065</td> <td>  -12.271</td> <td> 0.000</td> <td>   -0.918</td> <td>   -0.665</td>\n",
              "</tr>\n",
              "</table>\n",
              "<table class=\"simpletable\">\n",
              "<caption>Roots</caption>\n",
              "<tr>\n",
              "    <td></td>   <th>            Real</th>  <th>         Imaginary</th> <th>         Modulus</th>  <th>        Frequency</th>\n",
              "</tr>\n",
              "<tr>\n",
              "  <th>AR.1</th> <td>           1.3413</td> <td>          +0.0000j</td> <td>           1.3413</td> <td>           0.0000</td>\n",
              "</tr>\n",
              "<tr>\n",
              "  <th>MA.1</th> <td>           1.2632</td> <td>          +0.0000j</td> <td>           1.2632</td> <td>           0.0000</td>\n",
              "</tr>\n",
              "</table>"
            ],
            "text/plain": [
              "<class 'statsmodels.iolib.summary.Summary'>\n",
              "\"\"\"\n",
              "                             ARIMA Model Results                              \n",
              "==============================================================================\n",
              "Dep. Variable:         D.market_value   No. Observations:                 5020\n",
              "Model:                 ARIMA(1, 1, 1)   Log Likelihood              -27603.556\n",
              "Method:                       css-mle   S.D. of innovations             59.132\n",
              "Date:                Tue, 11 Aug 2020   AIC                          55217.112\n",
              "Time:                        15:15:03   BIC                          55249.718\n",
              "Sample:                    01-10-1994   HQIC                         55228.538\n",
              "                         - 04-05-2013                                         \n",
              "========================================================================================\n",
              "                           coef    std err          z      P>|z|      [0.025      0.975]\n",
              "----------------------------------------------------------------------------------------\n",
              "const                   -0.5904      2.655     -0.222      0.824      -5.795       4.614\n",
              "spx                      0.0011      0.002      0.452      0.651      -0.004       0.006\n",
              "ar.L1.D.market_value     0.7455      0.070     10.576      0.000       0.607       0.884\n",
              "ma.L1.D.market_value    -0.7916      0.065    -12.271      0.000      -0.918      -0.665\n",
              "                                    Roots                                    \n",
              "=============================================================================\n",
              "                  Real          Imaginary           Modulus         Frequency\n",
              "-----------------------------------------------------------------------------\n",
              "AR.1            1.3413           +0.0000j            1.3413            0.0000\n",
              "MA.1            1.2632           +0.0000j            1.2632            0.0000\n",
              "-----------------------------------------------------------------------------\n",
              "\"\"\""
            ]
          },
          "metadata": {
            "tags": []
          },
          "execution_count": 23
        }
      ]
    },
    {
      "cell_type": "markdown",
      "metadata": {
        "id": "i3XDjoTFGDVI",
        "colab_type": "text"
      },
      "source": [
        "# **ARIMAX: All the prices**"
      ]
    },
    {
      "cell_type": "code",
      "metadata": {
        "id": "ZFu9-WeTGHne",
        "colab_type": "code",
        "colab": {
          "base_uri": "https://localhost:8080/",
          "height": 235
        },
        "outputId": "eb6c0731-7e6e-4c26-9466-62556ce3c803"
      },
      "source": [
        "dfexog = df[['spx', 'dax', 'nikkei']]\n",
        "dfexog.head()"
      ],
      "execution_count": 26,
      "outputs": [
        {
          "output_type": "execute_result",
          "data": {
            "text/html": [
              "<div>\n",
              "<style scoped>\n",
              "    .dataframe tbody tr th:only-of-type {\n",
              "        vertical-align: middle;\n",
              "    }\n",
              "\n",
              "    .dataframe tbody tr th {\n",
              "        vertical-align: top;\n",
              "    }\n",
              "\n",
              "    .dataframe thead th {\n",
              "        text-align: right;\n",
              "    }\n",
              "</style>\n",
              "<table border=\"1\" class=\"dataframe\">\n",
              "  <thead>\n",
              "    <tr style=\"text-align: right;\">\n",
              "      <th></th>\n",
              "      <th>spx</th>\n",
              "      <th>dax</th>\n",
              "      <th>nikkei</th>\n",
              "    </tr>\n",
              "    <tr>\n",
              "      <th>date</th>\n",
              "      <th></th>\n",
              "      <th></th>\n",
              "      <th></th>\n",
              "    </tr>\n",
              "  </thead>\n",
              "  <tbody>\n",
              "    <tr>\n",
              "      <th>1994-01-07</th>\n",
              "      <td>469.90</td>\n",
              "      <td>2224.95</td>\n",
              "      <td>18124.01</td>\n",
              "    </tr>\n",
              "    <tr>\n",
              "      <th>1994-01-10</th>\n",
              "      <td>475.27</td>\n",
              "      <td>2225.00</td>\n",
              "      <td>18443.44</td>\n",
              "    </tr>\n",
              "    <tr>\n",
              "      <th>1994-01-11</th>\n",
              "      <td>474.13</td>\n",
              "      <td>2228.10</td>\n",
              "      <td>18485.25</td>\n",
              "    </tr>\n",
              "    <tr>\n",
              "      <th>1994-01-12</th>\n",
              "      <td>474.17</td>\n",
              "      <td>2182.06</td>\n",
              "      <td>18793.88</td>\n",
              "    </tr>\n",
              "    <tr>\n",
              "      <th>1994-01-13</th>\n",
              "      <td>472.47</td>\n",
              "      <td>2142.37</td>\n",
              "      <td>18577.26</td>\n",
              "    </tr>\n",
              "  </tbody>\n",
              "</table>\n",
              "</div>"
            ],
            "text/plain": [
              "               spx      dax    nikkei\n",
              "date                                 \n",
              "1994-01-07  469.90  2224.95  18124.01\n",
              "1994-01-10  475.27  2225.00  18443.44\n",
              "1994-01-11  474.13  2228.10  18485.25\n",
              "1994-01-12  474.17  2182.06  18793.88\n",
              "1994-01-13  472.47  2142.37  18577.26"
            ]
          },
          "metadata": {
            "tags": []
          },
          "execution_count": 26
        }
      ]
    },
    {
      "cell_type": "code",
      "metadata": {
        "id": "OW3-2B4YGunx",
        "colab_type": "code",
        "colab": {
          "base_uri": "https://localhost:8080/",
          "height": 414
        },
        "outputId": "31d1e87e-2ab8-4d5c-ee63-f02bd23a4917"
      },
      "source": [
        "modelo_ARIMAX_1_1_1 = ARIMA(df.market_value, exog = dfexog, order=(1,1,1))\n",
        "resultados_modelo_ARIMAX_1_1_1 = modelo_ARIMAX_1_1_1.fit()\n",
        "resultados_modelo_ARIMAX_1_1_1.summary()"
      ],
      "execution_count": 27,
      "outputs": [
        {
          "output_type": "execute_result",
          "data": {
            "text/html": [
              "<table class=\"simpletable\">\n",
              "<caption>ARIMA Model Results</caption>\n",
              "<tr>\n",
              "  <th>Dep. Variable:</th>  <td>D.market_value</td>  <th>  No. Observations:  </th>    <td>5020</td>   \n",
              "</tr>\n",
              "<tr>\n",
              "  <th>Model:</th>          <td>ARIMA(1, 1, 1)</td>  <th>  Log Likelihood     </th> <td>-27602.532</td>\n",
              "</tr>\n",
              "<tr>\n",
              "  <th>Method:</th>             <td>css-mle</td>     <th>  S.D. of innovations</th>   <td>59.120</td>  \n",
              "</tr>\n",
              "<tr>\n",
              "  <th>Date:</th>          <td>Tue, 11 Aug 2020</td> <th>  AIC                </th>  <td>55219.064</td>\n",
              "</tr>\n",
              "<tr>\n",
              "  <th>Time:</th>              <td>15:21:44</td>     <th>  BIC                </th>  <td>55264.712</td>\n",
              "</tr>\n",
              "<tr>\n",
              "  <th>Sample:</th>           <td>01-10-1994</td>    <th>  HQIC               </th>  <td>55235.060</td>\n",
              "</tr>\n",
              "<tr>\n",
              "  <th></th>                 <td>- 04-05-2013</td>   <th>                     </th>      <td> </td>    \n",
              "</tr>\n",
              "</table>\n",
              "<table class=\"simpletable\">\n",
              "<tr>\n",
              "            <td></td>              <th>coef</th>     <th>std err</th>      <th>z</th>      <th>P>|z|</th>  <th>[0.025</th>    <th>0.975]</th>  \n",
              "</tr>\n",
              "<tr>\n",
              "  <th>const</th>                <td>   -3.4005</td> <td>    4.310</td> <td>   -0.789</td> <td> 0.430</td> <td>  -11.848</td> <td>    5.047</td>\n",
              "</tr>\n",
              "<tr>\n",
              "  <th>spx</th>                  <td>    0.0088</td> <td>    0.006</td> <td>    1.471</td> <td> 0.141</td> <td>   -0.003</td> <td>    0.020</td>\n",
              "</tr>\n",
              "<tr>\n",
              "  <th>dax</th>                  <td>   -0.0014</td> <td>    0.001</td> <td>   -1.352</td> <td> 0.176</td> <td>   -0.003</td> <td>    0.001</td>\n",
              "</tr>\n",
              "<tr>\n",
              "  <th>nikkei</th>               <td>  8.56e-05</td> <td>    0.000</td> <td>    0.483</td> <td> 0.629</td> <td>   -0.000</td> <td>    0.000</td>\n",
              "</tr>\n",
              "<tr>\n",
              "  <th>ar.L1.D.market_value</th> <td>    0.7494</td> <td>    0.070</td> <td>   10.639</td> <td> 0.000</td> <td>    0.611</td> <td>    0.887</td>\n",
              "</tr>\n",
              "<tr>\n",
              "  <th>ma.L1.D.market_value</th> <td>   -0.7960</td> <td>    0.064</td> <td>  -12.380</td> <td> 0.000</td> <td>   -0.922</td> <td>   -0.670</td>\n",
              "</tr>\n",
              "</table>\n",
              "<table class=\"simpletable\">\n",
              "<caption>Roots</caption>\n",
              "<tr>\n",
              "    <td></td>   <th>            Real</th>  <th>         Imaginary</th> <th>         Modulus</th>  <th>        Frequency</th>\n",
              "</tr>\n",
              "<tr>\n",
              "  <th>AR.1</th> <td>           1.3345</td> <td>          +0.0000j</td> <td>           1.3345</td> <td>           0.0000</td>\n",
              "</tr>\n",
              "<tr>\n",
              "  <th>MA.1</th> <td>           1.2563</td> <td>          +0.0000j</td> <td>           1.2563</td> <td>           0.0000</td>\n",
              "</tr>\n",
              "</table>"
            ],
            "text/plain": [
              "<class 'statsmodels.iolib.summary.Summary'>\n",
              "\"\"\"\n",
              "                             ARIMA Model Results                              \n",
              "==============================================================================\n",
              "Dep. Variable:         D.market_value   No. Observations:                 5020\n",
              "Model:                 ARIMA(1, 1, 1)   Log Likelihood              -27602.532\n",
              "Method:                       css-mle   S.D. of innovations             59.120\n",
              "Date:                Tue, 11 Aug 2020   AIC                          55219.064\n",
              "Time:                        15:21:44   BIC                          55264.712\n",
              "Sample:                    01-10-1994   HQIC                         55235.060\n",
              "                         - 04-05-2013                                         \n",
              "========================================================================================\n",
              "                           coef    std err          z      P>|z|      [0.025      0.975]\n",
              "----------------------------------------------------------------------------------------\n",
              "const                   -3.4005      4.310     -0.789      0.430     -11.848       5.047\n",
              "spx                      0.0088      0.006      1.471      0.141      -0.003       0.020\n",
              "dax                     -0.0014      0.001     -1.352      0.176      -0.003       0.001\n",
              "nikkei                 8.56e-05      0.000      0.483      0.629      -0.000       0.000\n",
              "ar.L1.D.market_value     0.7494      0.070     10.639      0.000       0.611       0.887\n",
              "ma.L1.D.market_value    -0.7960      0.064    -12.380      0.000      -0.922      -0.670\n",
              "                                    Roots                                    \n",
              "=============================================================================\n",
              "                  Real          Imaginary           Modulus         Frequency\n",
              "-----------------------------------------------------------------------------\n",
              "AR.1            1.3345           +0.0000j            1.3345            0.0000\n",
              "MA.1            1.2563           +0.0000j            1.2563            0.0000\n",
              "-----------------------------------------------------------------------------\n",
              "\"\"\""
            ]
          },
          "metadata": {
            "tags": []
          },
          "execution_count": 27
        }
      ]
    }
  ]
}